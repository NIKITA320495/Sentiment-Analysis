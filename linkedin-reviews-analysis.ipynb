{
 "cells": [
  {
   "cell_type": "markdown",
   "metadata": {},
   "source": [
    "## Importing basic libraries"
   ]
  },
  {
   "cell_type": "code",
   "execution_count": 325,
   "metadata": {},
   "outputs": [],
   "source": [
    "import numpy as np\n",
    "import pandas as pd\n",
    "import matplotlib.pyplot as plt\n",
    "import seaborn as sns\n",
    "import nltk\n",
    "import plotly.express as px\n",
    "from nltk.corpus import stopwords\n",
    "from nltk.stem import PorterStemmer\n",
    "from nltk.stem import WordNetLemmatizer\n",
    "from sklearn.feature_extraction.text import CountVectorizer\n",
    "from sklearn.model_selection import train_test_split,GridSearchCV,RandomizedSearchCV\n",
    "from sklearn.linear_model import LogisticRegression\n",
    "from sklearn.svm import SVC\n",
    "from sklearn.ensemble import RandomForestClassifier,GradientBoostingClassifier\n",
    "from sklearn.tree import DecisionTreeClassifier\n",
    "from sklearn.feature_extraction.text import TfidfVectorizer\n",
    "from sklearn.metrics import confusion_matrix, accuracy_score, classification_report"
   ]
  },
  {
   "cell_type": "markdown",
   "metadata": {},
   "source": [
    "## Previewing and analysing dataset"
   ]
  },
  {
   "cell_type": "code",
   "execution_count": 287,
   "metadata": {},
   "outputs": [
    {
     "data": {
      "text/html": [
       "<div>\n",
       "<style scoped>\n",
       "    .dataframe tbody tr th:only-of-type {\n",
       "        vertical-align: middle;\n",
       "    }\n",
       "\n",
       "    .dataframe tbody tr th {\n",
       "        vertical-align: top;\n",
       "    }\n",
       "\n",
       "    .dataframe thead th {\n",
       "        text-align: right;\n",
       "    }\n",
       "</style>\n",
       "<table border=\"1\" class=\"dataframe\">\n",
       "  <thead>\n",
       "    <tr style=\"text-align: right;\">\n",
       "      <th></th>\n",
       "      <th>Review</th>\n",
       "      <th>Rating</th>\n",
       "    </tr>\n",
       "  </thead>\n",
       "  <tbody>\n",
       "    <tr>\n",
       "      <th>0</th>\n",
       "      <td>Does absolutely nothing for a LinkedIn beginne...</td>\n",
       "      <td>1</td>\n",
       "    </tr>\n",
       "    <tr>\n",
       "      <th>1</th>\n",
       "      <td>Force close(galaxy tab)</td>\n",
       "      <td>1</td>\n",
       "    </tr>\n",
       "    <tr>\n",
       "      <th>2</th>\n",
       "      <td>Slow and it tries to upload your contacts with...</td>\n",
       "      <td>1</td>\n",
       "    </tr>\n",
       "    <tr>\n",
       "      <th>3</th>\n",
       "      <td>Add ability to customize the profile and move ...</td>\n",
       "      <td>4</td>\n",
       "    </tr>\n",
       "    <tr>\n",
       "      <th>4</th>\n",
       "      <td>Good app, but it's a pain that it's not possib...</td>\n",
       "      <td>4</td>\n",
       "    </tr>\n",
       "  </tbody>\n",
       "</table>\n",
       "</div>"
      ],
      "text/plain": [
       "                                              Review  Rating\n",
       "0  Does absolutely nothing for a LinkedIn beginne...       1\n",
       "1                            Force close(galaxy tab)       1\n",
       "2  Slow and it tries to upload your contacts with...       1\n",
       "3  Add ability to customize the profile and move ...       4\n",
       "4  Good app, but it's a pain that it's not possib...       4"
      ]
     },
     "execution_count": 287,
     "metadata": {},
     "output_type": "execute_result"
    }
   ],
   "source": [
    "df=pd.read_csv('linkedin-reviews.csv')\n",
    "df.head()"
   ]
  },
  {
   "cell_type": "code",
   "execution_count": 288,
   "metadata": {},
   "outputs": [
    {
     "name": "stdout",
     "output_type": "stream",
     "text": [
      "<class 'pandas.core.frame.DataFrame'>\n",
      "RangeIndex: 702 entries, 0 to 701\n",
      "Data columns (total 2 columns):\n",
      " #   Column  Non-Null Count  Dtype \n",
      "---  ------  --------------  ----- \n",
      " 0   Review  702 non-null    object\n",
      " 1   Rating  702 non-null    int64 \n",
      "dtypes: int64(1), object(1)\n",
      "memory usage: 11.1+ KB\n"
     ]
    }
   ],
   "source": [
    "df.info()"
   ]
  },
  {
   "cell_type": "code",
   "execution_count": 289,
   "metadata": {},
   "outputs": [
    {
     "data": {
      "text/plain": [
       "Review    0\n",
       "Rating    0\n",
       "dtype: int64"
      ]
     },
     "execution_count": 289,
     "metadata": {},
     "output_type": "execute_result"
    }
   ],
   "source": [
    "df.isnull().sum()"
   ]
  },
  {
   "cell_type": "code",
   "execution_count": 290,
   "metadata": {},
   "outputs": [],
   "source": [
    "df['Length'] = df['Review'].apply(len)"
   ]
  },
  {
   "cell_type": "code",
   "execution_count": 291,
   "metadata": {},
   "outputs": [
    {
     "data": {
      "text/html": [
       "<div>\n",
       "<style scoped>\n",
       "    .dataframe tbody tr th:only-of-type {\n",
       "        vertical-align: middle;\n",
       "    }\n",
       "\n",
       "    .dataframe tbody tr th {\n",
       "        vertical-align: top;\n",
       "    }\n",
       "\n",
       "    .dataframe thead th {\n",
       "        text-align: right;\n",
       "    }\n",
       "</style>\n",
       "<table border=\"1\" class=\"dataframe\">\n",
       "  <thead>\n",
       "    <tr style=\"text-align: right;\">\n",
       "      <th></th>\n",
       "      <th>Review</th>\n",
       "      <th>Rating</th>\n",
       "      <th>Length</th>\n",
       "    </tr>\n",
       "  </thead>\n",
       "  <tbody>\n",
       "    <tr>\n",
       "      <th>14</th>\n",
       "      <td>Lame. May try it again later when it has more ...</td>\n",
       "      <td>1</td>\n",
       "      <td>92</td>\n",
       "    </tr>\n",
       "    <tr>\n",
       "      <th>485</th>\n",
       "      <td>Pointless, not enough functionality, having to...</td>\n",
       "      <td>1</td>\n",
       "      <td>130</td>\n",
       "    </tr>\n",
       "    <tr>\n",
       "      <th>582</th>\n",
       "      <td>All good</td>\n",
       "      <td>5</td>\n",
       "      <td>8</td>\n",
       "    </tr>\n",
       "    <tr>\n",
       "      <th>24</th>\n",
       "      <td>Not working on LG optimus</td>\n",
       "      <td>1</td>\n",
       "      <td>25</td>\n",
       "    </tr>\n",
       "    <tr>\n",
       "      <th>286</th>\n",
       "      <td>Excellent interface.... Would have liked an op...</td>\n",
       "      <td>4</td>\n",
       "      <td>80</td>\n",
       "    </tr>\n",
       "    <tr>\n",
       "      <th>366</th>\n",
       "      <td>Use to be good for Android. Now takes forever ...</td>\n",
       "      <td>1</td>\n",
       "      <td>54</td>\n",
       "    </tr>\n",
       "    <tr>\n",
       "      <th>469</th>\n",
       "      <td>Like that they tried to make or user friendly,...</td>\n",
       "      <td>3</td>\n",
       "      <td>150</td>\n",
       "    </tr>\n",
       "    <tr>\n",
       "      <th>424</th>\n",
       "      <td>Linked's app is simply fantastic. 5 stars</td>\n",
       "      <td>5</td>\n",
       "      <td>41</td>\n",
       "    </tr>\n",
       "    <tr>\n",
       "      <th>482</th>\n",
       "      <td>Doesn't even load correctly on samsung vibrant...</td>\n",
       "      <td>1</td>\n",
       "      <td>103</td>\n",
       "    </tr>\n",
       "    <tr>\n",
       "      <th>495</th>\n",
       "      <td>Keeps crashing on MT4G TMO</td>\n",
       "      <td>1</td>\n",
       "      <td>26</td>\n",
       "    </tr>\n",
       "  </tbody>\n",
       "</table>\n",
       "</div>"
      ],
      "text/plain": [
       "                                                Review  Rating  Length\n",
       "14   Lame. May try it again later when it has more ...       1      92\n",
       "485  Pointless, not enough functionality, having to...       1     130\n",
       "582                                           All good       5       8\n",
       "24                           Not working on LG optimus       1      25\n",
       "286  Excellent interface.... Would have liked an op...       4      80\n",
       "366  Use to be good for Android. Now takes forever ...       1      54\n",
       "469  Like that they tried to make or user friendly,...       3     150\n",
       "424          Linked's app is simply fantastic. 5 stars       5      41\n",
       "482  Doesn't even load correctly on samsung vibrant...       1     103\n",
       "495                         Keeps crashing on MT4G TMO       1      26"
      ]
     },
     "execution_count": 291,
     "metadata": {},
     "output_type": "execute_result"
    }
   ],
   "source": [
    "df.sample(10)"
   ]
  },
  {
   "cell_type": "code",
   "execution_count": 292,
   "metadata": {},
   "outputs": [
    {
     "data": {
      "text/plain": [
       "Rating\n",
       "1    275\n",
       "4    122\n",
       "3    121\n",
       "5     95\n",
       "2     89\n",
       "Name: count, dtype: int64"
      ]
     },
     "execution_count": 292,
     "metadata": {},
     "output_type": "execute_result"
    }
   ],
   "source": [
    "df['Rating'].value_counts()"
   ]
  },
  {
   "cell_type": "markdown",
   "metadata": {},
   "source": [
    "## total positive review percentage:\n",
    "#### let us consider 4 and 5 as positive reviews\n",
    "#### 30.91%\n",
    "#### let us consider 3,4 and 5 as positive reviews\n",
    "#### 48.14%"
   ]
  },
  {
   "cell_type": "markdown",
   "metadata": {},
   "source": [
    "## Some visualizations"
   ]
  },
  {
   "cell_type": "code",
   "execution_count": 330,
   "metadata": {},
   "outputs": [
    {
     "data": {
      "application/vnd.plotly.v1+json": {
       "config": {
        "plotlyServerURL": "https://plot.ly"
       },
       "data": [
        {
         "alignmentgroup": "True",
         "hovertemplate": "Rating=%{x}<br>Count=%{y}<br>color=%{marker.color}<extra></extra>",
         "legendgroup": "",
         "marker": {
          "color": [
           1,
           4,
           3,
           5,
           2
          ],
          "coloraxis": "coloraxis",
          "pattern": {
           "shape": ""
          }
         },
         "name": "",
         "offsetgroup": "",
         "orientation": "v",
         "showlegend": false,
         "textposition": "auto",
         "type": "bar",
         "x": [
          1,
          4,
          3,
          5,
          2
         ],
         "xaxis": "x",
         "y": [
          275,
          122,
          121,
          95,
          89
         ],
         "yaxis": "y"
        }
       ],
       "layout": {
        "barmode": "relative",
        "coloraxis": {
         "colorbar": {
          "title": {
           "text": "color"
          }
         },
         "colorscale": [
          [
           0,
           "#0d0887"
          ],
          [
           0.1111111111111111,
           "#46039f"
          ],
          [
           0.2222222222222222,
           "#7201a8"
          ],
          [
           0.3333333333333333,
           "#9c179e"
          ],
          [
           0.4444444444444444,
           "#bd3786"
          ],
          [
           0.5555555555555556,
           "#d8576b"
          ],
          [
           0.6666666666666666,
           "#ed7953"
          ],
          [
           0.7777777777777778,
           "#fb9f3a"
          ],
          [
           0.8888888888888888,
           "#fdca26"
          ],
          [
           1,
           "#f0f921"
          ]
         ]
        },
        "legend": {
         "tracegroupgap": 0
        },
        "showlegend": false,
        "template": {
         "data": {
          "bar": [
           {
            "error_x": {
             "color": "#2a3f5f"
            },
            "error_y": {
             "color": "#2a3f5f"
            },
            "marker": {
             "line": {
              "color": "#E5ECF6",
              "width": 0.5
             },
             "pattern": {
              "fillmode": "overlay",
              "size": 10,
              "solidity": 0.2
             }
            },
            "type": "bar"
           }
          ],
          "barpolar": [
           {
            "marker": {
             "line": {
              "color": "#E5ECF6",
              "width": 0.5
             },
             "pattern": {
              "fillmode": "overlay",
              "size": 10,
              "solidity": 0.2
             }
            },
            "type": "barpolar"
           }
          ],
          "carpet": [
           {
            "aaxis": {
             "endlinecolor": "#2a3f5f",
             "gridcolor": "white",
             "linecolor": "white",
             "minorgridcolor": "white",
             "startlinecolor": "#2a3f5f"
            },
            "baxis": {
             "endlinecolor": "#2a3f5f",
             "gridcolor": "white",
             "linecolor": "white",
             "minorgridcolor": "white",
             "startlinecolor": "#2a3f5f"
            },
            "type": "carpet"
           }
          ],
          "choropleth": [
           {
            "colorbar": {
             "outlinewidth": 0,
             "ticks": ""
            },
            "type": "choropleth"
           }
          ],
          "contour": [
           {
            "colorbar": {
             "outlinewidth": 0,
             "ticks": ""
            },
            "colorscale": [
             [
              0,
              "#0d0887"
             ],
             [
              0.1111111111111111,
              "#46039f"
             ],
             [
              0.2222222222222222,
              "#7201a8"
             ],
             [
              0.3333333333333333,
              "#9c179e"
             ],
             [
              0.4444444444444444,
              "#bd3786"
             ],
             [
              0.5555555555555556,
              "#d8576b"
             ],
             [
              0.6666666666666666,
              "#ed7953"
             ],
             [
              0.7777777777777778,
              "#fb9f3a"
             ],
             [
              0.8888888888888888,
              "#fdca26"
             ],
             [
              1,
              "#f0f921"
             ]
            ],
            "type": "contour"
           }
          ],
          "contourcarpet": [
           {
            "colorbar": {
             "outlinewidth": 0,
             "ticks": ""
            },
            "type": "contourcarpet"
           }
          ],
          "heatmap": [
           {
            "colorbar": {
             "outlinewidth": 0,
             "ticks": ""
            },
            "colorscale": [
             [
              0,
              "#0d0887"
             ],
             [
              0.1111111111111111,
              "#46039f"
             ],
             [
              0.2222222222222222,
              "#7201a8"
             ],
             [
              0.3333333333333333,
              "#9c179e"
             ],
             [
              0.4444444444444444,
              "#bd3786"
             ],
             [
              0.5555555555555556,
              "#d8576b"
             ],
             [
              0.6666666666666666,
              "#ed7953"
             ],
             [
              0.7777777777777778,
              "#fb9f3a"
             ],
             [
              0.8888888888888888,
              "#fdca26"
             ],
             [
              1,
              "#f0f921"
             ]
            ],
            "type": "heatmap"
           }
          ],
          "heatmapgl": [
           {
            "colorbar": {
             "outlinewidth": 0,
             "ticks": ""
            },
            "colorscale": [
             [
              0,
              "#0d0887"
             ],
             [
              0.1111111111111111,
              "#46039f"
             ],
             [
              0.2222222222222222,
              "#7201a8"
             ],
             [
              0.3333333333333333,
              "#9c179e"
             ],
             [
              0.4444444444444444,
              "#bd3786"
             ],
             [
              0.5555555555555556,
              "#d8576b"
             ],
             [
              0.6666666666666666,
              "#ed7953"
             ],
             [
              0.7777777777777778,
              "#fb9f3a"
             ],
             [
              0.8888888888888888,
              "#fdca26"
             ],
             [
              1,
              "#f0f921"
             ]
            ],
            "type": "heatmapgl"
           }
          ],
          "histogram": [
           {
            "marker": {
             "pattern": {
              "fillmode": "overlay",
              "size": 10,
              "solidity": 0.2
             }
            },
            "type": "histogram"
           }
          ],
          "histogram2d": [
           {
            "colorbar": {
             "outlinewidth": 0,
             "ticks": ""
            },
            "colorscale": [
             [
              0,
              "#0d0887"
             ],
             [
              0.1111111111111111,
              "#46039f"
             ],
             [
              0.2222222222222222,
              "#7201a8"
             ],
             [
              0.3333333333333333,
              "#9c179e"
             ],
             [
              0.4444444444444444,
              "#bd3786"
             ],
             [
              0.5555555555555556,
              "#d8576b"
             ],
             [
              0.6666666666666666,
              "#ed7953"
             ],
             [
              0.7777777777777778,
              "#fb9f3a"
             ],
             [
              0.8888888888888888,
              "#fdca26"
             ],
             [
              1,
              "#f0f921"
             ]
            ],
            "type": "histogram2d"
           }
          ],
          "histogram2dcontour": [
           {
            "colorbar": {
             "outlinewidth": 0,
             "ticks": ""
            },
            "colorscale": [
             [
              0,
              "#0d0887"
             ],
             [
              0.1111111111111111,
              "#46039f"
             ],
             [
              0.2222222222222222,
              "#7201a8"
             ],
             [
              0.3333333333333333,
              "#9c179e"
             ],
             [
              0.4444444444444444,
              "#bd3786"
             ],
             [
              0.5555555555555556,
              "#d8576b"
             ],
             [
              0.6666666666666666,
              "#ed7953"
             ],
             [
              0.7777777777777778,
              "#fb9f3a"
             ],
             [
              0.8888888888888888,
              "#fdca26"
             ],
             [
              1,
              "#f0f921"
             ]
            ],
            "type": "histogram2dcontour"
           }
          ],
          "mesh3d": [
           {
            "colorbar": {
             "outlinewidth": 0,
             "ticks": ""
            },
            "type": "mesh3d"
           }
          ],
          "parcoords": [
           {
            "line": {
             "colorbar": {
              "outlinewidth": 0,
              "ticks": ""
             }
            },
            "type": "parcoords"
           }
          ],
          "pie": [
           {
            "automargin": true,
            "type": "pie"
           }
          ],
          "scatter": [
           {
            "fillpattern": {
             "fillmode": "overlay",
             "size": 10,
             "solidity": 0.2
            },
            "type": "scatter"
           }
          ],
          "scatter3d": [
           {
            "line": {
             "colorbar": {
              "outlinewidth": 0,
              "ticks": ""
             }
            },
            "marker": {
             "colorbar": {
              "outlinewidth": 0,
              "ticks": ""
             }
            },
            "type": "scatter3d"
           }
          ],
          "scattercarpet": [
           {
            "marker": {
             "colorbar": {
              "outlinewidth": 0,
              "ticks": ""
             }
            },
            "type": "scattercarpet"
           }
          ],
          "scattergeo": [
           {
            "marker": {
             "colorbar": {
              "outlinewidth": 0,
              "ticks": ""
             }
            },
            "type": "scattergeo"
           }
          ],
          "scattergl": [
           {
            "marker": {
             "colorbar": {
              "outlinewidth": 0,
              "ticks": ""
             }
            },
            "type": "scattergl"
           }
          ],
          "scattermapbox": [
           {
            "marker": {
             "colorbar": {
              "outlinewidth": 0,
              "ticks": ""
             }
            },
            "type": "scattermapbox"
           }
          ],
          "scatterpolar": [
           {
            "marker": {
             "colorbar": {
              "outlinewidth": 0,
              "ticks": ""
             }
            },
            "type": "scatterpolar"
           }
          ],
          "scatterpolargl": [
           {
            "marker": {
             "colorbar": {
              "outlinewidth": 0,
              "ticks": ""
             }
            },
            "type": "scatterpolargl"
           }
          ],
          "scatterternary": [
           {
            "marker": {
             "colorbar": {
              "outlinewidth": 0,
              "ticks": ""
             }
            },
            "type": "scatterternary"
           }
          ],
          "surface": [
           {
            "colorbar": {
             "outlinewidth": 0,
             "ticks": ""
            },
            "colorscale": [
             [
              0,
              "#0d0887"
             ],
             [
              0.1111111111111111,
              "#46039f"
             ],
             [
              0.2222222222222222,
              "#7201a8"
             ],
             [
              0.3333333333333333,
              "#9c179e"
             ],
             [
              0.4444444444444444,
              "#bd3786"
             ],
             [
              0.5555555555555556,
              "#d8576b"
             ],
             [
              0.6666666666666666,
              "#ed7953"
             ],
             [
              0.7777777777777778,
              "#fb9f3a"
             ],
             [
              0.8888888888888888,
              "#fdca26"
             ],
             [
              1,
              "#f0f921"
             ]
            ],
            "type": "surface"
           }
          ],
          "table": [
           {
            "cells": {
             "fill": {
              "color": "#EBF0F8"
             },
             "line": {
              "color": "white"
             }
            },
            "header": {
             "fill": {
              "color": "#C8D4E3"
             },
             "line": {
              "color": "white"
             }
            },
            "type": "table"
           }
          ]
         },
         "layout": {
          "annotationdefaults": {
           "arrowcolor": "#2a3f5f",
           "arrowhead": 0,
           "arrowwidth": 1
          },
          "autotypenumbers": "strict",
          "coloraxis": {
           "colorbar": {
            "outlinewidth": 0,
            "ticks": ""
           }
          },
          "colorscale": {
           "diverging": [
            [
             0,
             "#8e0152"
            ],
            [
             0.1,
             "#c51b7d"
            ],
            [
             0.2,
             "#de77ae"
            ],
            [
             0.3,
             "#f1b6da"
            ],
            [
             0.4,
             "#fde0ef"
            ],
            [
             0.5,
             "#f7f7f7"
            ],
            [
             0.6,
             "#e6f5d0"
            ],
            [
             0.7,
             "#b8e186"
            ],
            [
             0.8,
             "#7fbc41"
            ],
            [
             0.9,
             "#4d9221"
            ],
            [
             1,
             "#276419"
            ]
           ],
           "sequential": [
            [
             0,
             "#0d0887"
            ],
            [
             0.1111111111111111,
             "#46039f"
            ],
            [
             0.2222222222222222,
             "#7201a8"
            ],
            [
             0.3333333333333333,
             "#9c179e"
            ],
            [
             0.4444444444444444,
             "#bd3786"
            ],
            [
             0.5555555555555556,
             "#d8576b"
            ],
            [
             0.6666666666666666,
             "#ed7953"
            ],
            [
             0.7777777777777778,
             "#fb9f3a"
            ],
            [
             0.8888888888888888,
             "#fdca26"
            ],
            [
             1,
             "#f0f921"
            ]
           ],
           "sequentialminus": [
            [
             0,
             "#0d0887"
            ],
            [
             0.1111111111111111,
             "#46039f"
            ],
            [
             0.2222222222222222,
             "#7201a8"
            ],
            [
             0.3333333333333333,
             "#9c179e"
            ],
            [
             0.4444444444444444,
             "#bd3786"
            ],
            [
             0.5555555555555556,
             "#d8576b"
            ],
            [
             0.6666666666666666,
             "#ed7953"
            ],
            [
             0.7777777777777778,
             "#fb9f3a"
            ],
            [
             0.8888888888888888,
             "#fdca26"
            ],
            [
             1,
             "#f0f921"
            ]
           ]
          },
          "colorway": [
           "#636efa",
           "#EF553B",
           "#00cc96",
           "#ab63fa",
           "#FFA15A",
           "#19d3f3",
           "#FF6692",
           "#B6E880",
           "#FF97FF",
           "#FECB52"
          ],
          "font": {
           "color": "#2a3f5f"
          },
          "geo": {
           "bgcolor": "white",
           "lakecolor": "white",
           "landcolor": "#E5ECF6",
           "showlakes": true,
           "showland": true,
           "subunitcolor": "white"
          },
          "hoverlabel": {
           "align": "left"
          },
          "hovermode": "closest",
          "mapbox": {
           "style": "light"
          },
          "paper_bgcolor": "white",
          "plot_bgcolor": "#E5ECF6",
          "polar": {
           "angularaxis": {
            "gridcolor": "white",
            "linecolor": "white",
            "ticks": ""
           },
           "bgcolor": "#E5ECF6",
           "radialaxis": {
            "gridcolor": "white",
            "linecolor": "white",
            "ticks": ""
           }
          },
          "scene": {
           "xaxis": {
            "backgroundcolor": "#E5ECF6",
            "gridcolor": "white",
            "gridwidth": 2,
            "linecolor": "white",
            "showbackground": true,
            "ticks": "",
            "zerolinecolor": "white"
           },
           "yaxis": {
            "backgroundcolor": "#E5ECF6",
            "gridcolor": "white",
            "gridwidth": 2,
            "linecolor": "white",
            "showbackground": true,
            "ticks": "",
            "zerolinecolor": "white"
           },
           "zaxis": {
            "backgroundcolor": "#E5ECF6",
            "gridcolor": "white",
            "gridwidth": 2,
            "linecolor": "white",
            "showbackground": true,
            "ticks": "",
            "zerolinecolor": "white"
           }
          },
          "shapedefaults": {
           "line": {
            "color": "#2a3f5f"
           }
          },
          "ternary": {
           "aaxis": {
            "gridcolor": "white",
            "linecolor": "white",
            "ticks": ""
           },
           "baxis": {
            "gridcolor": "white",
            "linecolor": "white",
            "ticks": ""
           },
           "bgcolor": "#E5ECF6",
           "caxis": {
            "gridcolor": "white",
            "linecolor": "white",
            "ticks": ""
           }
          },
          "title": {
           "x": 0.05
          },
          "xaxis": {
           "automargin": true,
           "gridcolor": "white",
           "linecolor": "white",
           "ticks": "",
           "title": {
            "standoff": 15
           },
           "zerolinecolor": "white",
           "zerolinewidth": 2
          },
          "yaxis": {
           "automargin": true,
           "gridcolor": "white",
           "linecolor": "white",
           "ticks": "",
           "title": {
            "standoff": 15
           },
           "zerolinecolor": "white",
           "zerolinewidth": 2
          }
         }
        },
        "title": {
         "text": "Rating Distribution"
        },
        "xaxis": {
         "anchor": "y",
         "domain": [
          0,
          1
         ],
         "title": {
          "text": "Rating"
         }
        },
        "yaxis": {
         "anchor": "x",
         "domain": [
          0,
          1
         ],
         "title": {
          "text": "Count"
         }
        }
       }
      }
     },
     "metadata": {},
     "output_type": "display_data"
    }
   ],
   "source": [
    "def plot_rating_distribution(df, column_name):\n",
    "    value_counts = df[column_name].value_counts()\n",
    "    \n",
    "    # Custom color theme\n",
    "    colors = px.colors.qualitative.Plotly\n",
    "    \n",
    "    fig = px.bar(\n",
    "        x=value_counts.index, \n",
    "        y=value_counts.values, \n",
    "        labels={'x': column_name, 'y': 'Count'}, \n",
    "        title=f'{column_name} Distribution',\n",
    "        color=value_counts.index,  # Use the column values for coloring\n",
    "        color_discrete_sequence=colors  # Set the color theme\n",
    "    )\n",
    "    \n",
    "    fig.update_layout(showlegend=False)\n",
    "    fig.show()\n",
    "plot_rating_distribution(df, 'Rating')"
   ]
  },
  {
   "cell_type": "code",
   "execution_count": 295,
   "metadata": {},
   "outputs": [
    {
     "name": "stdout",
     "output_type": "stream",
     "text": [
      "Rating value percentage\n",
      "Rating\n",
      "1    39.17\n",
      "4    17.38\n",
      "3    17.24\n",
      "5    13.53\n",
      "2    12.68\n",
      "Name: count, dtype: float64\n"
     ]
    }
   ],
   "source": [
    "print('Rating value percentage')\n",
    "percentage=round(df['Rating'].value_counts()/df.shape[0]*100,2)\n",
    "print(percentage)"
   ]
  },
  {
   "cell_type": "code",
   "execution_count": 332,
   "metadata": {},
   "outputs": [
    {
     "data": {
      "application/vnd.plotly.v1+json": {
       "config": {
        "plotlyServerURL": "https://plot.ly"
       },
       "data": [
        {
         "domain": {
          "x": [
           0,
           1
          ],
          "y": [
           0,
           1
          ]
         },
         "hovertemplate": "label=%{label}<br>value=%{value}<extra></extra>",
         "labels": [
          1,
          4,
          3,
          5,
          2
         ],
         "legendgroup": "",
         "name": "",
         "showlegend": true,
         "textinfo": "percent+label",
         "textposition": "inside",
         "type": "pie",
         "values": [
          39.173789173789174,
          17.37891737891738,
          17.236467236467238,
          13.532763532763534,
          12.678062678062679
         ]
        }
       ],
       "layout": {
        "height": 600,
        "legend": {
         "tracegroupgap": 0
        },
        "showlegend": true,
        "template": {
         "data": {
          "bar": [
           {
            "error_x": {
             "color": "#2a3f5f"
            },
            "error_y": {
             "color": "#2a3f5f"
            },
            "marker": {
             "line": {
              "color": "#E5ECF6",
              "width": 0.5
             },
             "pattern": {
              "fillmode": "overlay",
              "size": 10,
              "solidity": 0.2
             }
            },
            "type": "bar"
           }
          ],
          "barpolar": [
           {
            "marker": {
             "line": {
              "color": "#E5ECF6",
              "width": 0.5
             },
             "pattern": {
              "fillmode": "overlay",
              "size": 10,
              "solidity": 0.2
             }
            },
            "type": "barpolar"
           }
          ],
          "carpet": [
           {
            "aaxis": {
             "endlinecolor": "#2a3f5f",
             "gridcolor": "white",
             "linecolor": "white",
             "minorgridcolor": "white",
             "startlinecolor": "#2a3f5f"
            },
            "baxis": {
             "endlinecolor": "#2a3f5f",
             "gridcolor": "white",
             "linecolor": "white",
             "minorgridcolor": "white",
             "startlinecolor": "#2a3f5f"
            },
            "type": "carpet"
           }
          ],
          "choropleth": [
           {
            "colorbar": {
             "outlinewidth": 0,
             "ticks": ""
            },
            "type": "choropleth"
           }
          ],
          "contour": [
           {
            "colorbar": {
             "outlinewidth": 0,
             "ticks": ""
            },
            "colorscale": [
             [
              0,
              "#0d0887"
             ],
             [
              0.1111111111111111,
              "#46039f"
             ],
             [
              0.2222222222222222,
              "#7201a8"
             ],
             [
              0.3333333333333333,
              "#9c179e"
             ],
             [
              0.4444444444444444,
              "#bd3786"
             ],
             [
              0.5555555555555556,
              "#d8576b"
             ],
             [
              0.6666666666666666,
              "#ed7953"
             ],
             [
              0.7777777777777778,
              "#fb9f3a"
             ],
             [
              0.8888888888888888,
              "#fdca26"
             ],
             [
              1,
              "#f0f921"
             ]
            ],
            "type": "contour"
           }
          ],
          "contourcarpet": [
           {
            "colorbar": {
             "outlinewidth": 0,
             "ticks": ""
            },
            "type": "contourcarpet"
           }
          ],
          "heatmap": [
           {
            "colorbar": {
             "outlinewidth": 0,
             "ticks": ""
            },
            "colorscale": [
             [
              0,
              "#0d0887"
             ],
             [
              0.1111111111111111,
              "#46039f"
             ],
             [
              0.2222222222222222,
              "#7201a8"
             ],
             [
              0.3333333333333333,
              "#9c179e"
             ],
             [
              0.4444444444444444,
              "#bd3786"
             ],
             [
              0.5555555555555556,
              "#d8576b"
             ],
             [
              0.6666666666666666,
              "#ed7953"
             ],
             [
              0.7777777777777778,
              "#fb9f3a"
             ],
             [
              0.8888888888888888,
              "#fdca26"
             ],
             [
              1,
              "#f0f921"
             ]
            ],
            "type": "heatmap"
           }
          ],
          "heatmapgl": [
           {
            "colorbar": {
             "outlinewidth": 0,
             "ticks": ""
            },
            "colorscale": [
             [
              0,
              "#0d0887"
             ],
             [
              0.1111111111111111,
              "#46039f"
             ],
             [
              0.2222222222222222,
              "#7201a8"
             ],
             [
              0.3333333333333333,
              "#9c179e"
             ],
             [
              0.4444444444444444,
              "#bd3786"
             ],
             [
              0.5555555555555556,
              "#d8576b"
             ],
             [
              0.6666666666666666,
              "#ed7953"
             ],
             [
              0.7777777777777778,
              "#fb9f3a"
             ],
             [
              0.8888888888888888,
              "#fdca26"
             ],
             [
              1,
              "#f0f921"
             ]
            ],
            "type": "heatmapgl"
           }
          ],
          "histogram": [
           {
            "marker": {
             "pattern": {
              "fillmode": "overlay",
              "size": 10,
              "solidity": 0.2
             }
            },
            "type": "histogram"
           }
          ],
          "histogram2d": [
           {
            "colorbar": {
             "outlinewidth": 0,
             "ticks": ""
            },
            "colorscale": [
             [
              0,
              "#0d0887"
             ],
             [
              0.1111111111111111,
              "#46039f"
             ],
             [
              0.2222222222222222,
              "#7201a8"
             ],
             [
              0.3333333333333333,
              "#9c179e"
             ],
             [
              0.4444444444444444,
              "#bd3786"
             ],
             [
              0.5555555555555556,
              "#d8576b"
             ],
             [
              0.6666666666666666,
              "#ed7953"
             ],
             [
              0.7777777777777778,
              "#fb9f3a"
             ],
             [
              0.8888888888888888,
              "#fdca26"
             ],
             [
              1,
              "#f0f921"
             ]
            ],
            "type": "histogram2d"
           }
          ],
          "histogram2dcontour": [
           {
            "colorbar": {
             "outlinewidth": 0,
             "ticks": ""
            },
            "colorscale": [
             [
              0,
              "#0d0887"
             ],
             [
              0.1111111111111111,
              "#46039f"
             ],
             [
              0.2222222222222222,
              "#7201a8"
             ],
             [
              0.3333333333333333,
              "#9c179e"
             ],
             [
              0.4444444444444444,
              "#bd3786"
             ],
             [
              0.5555555555555556,
              "#d8576b"
             ],
             [
              0.6666666666666666,
              "#ed7953"
             ],
             [
              0.7777777777777778,
              "#fb9f3a"
             ],
             [
              0.8888888888888888,
              "#fdca26"
             ],
             [
              1,
              "#f0f921"
             ]
            ],
            "type": "histogram2dcontour"
           }
          ],
          "mesh3d": [
           {
            "colorbar": {
             "outlinewidth": 0,
             "ticks": ""
            },
            "type": "mesh3d"
           }
          ],
          "parcoords": [
           {
            "line": {
             "colorbar": {
              "outlinewidth": 0,
              "ticks": ""
             }
            },
            "type": "parcoords"
           }
          ],
          "pie": [
           {
            "automargin": true,
            "type": "pie"
           }
          ],
          "scatter": [
           {
            "fillpattern": {
             "fillmode": "overlay",
             "size": 10,
             "solidity": 0.2
            },
            "type": "scatter"
           }
          ],
          "scatter3d": [
           {
            "line": {
             "colorbar": {
              "outlinewidth": 0,
              "ticks": ""
             }
            },
            "marker": {
             "colorbar": {
              "outlinewidth": 0,
              "ticks": ""
             }
            },
            "type": "scatter3d"
           }
          ],
          "scattercarpet": [
           {
            "marker": {
             "colorbar": {
              "outlinewidth": 0,
              "ticks": ""
             }
            },
            "type": "scattercarpet"
           }
          ],
          "scattergeo": [
           {
            "marker": {
             "colorbar": {
              "outlinewidth": 0,
              "ticks": ""
             }
            },
            "type": "scattergeo"
           }
          ],
          "scattergl": [
           {
            "marker": {
             "colorbar": {
              "outlinewidth": 0,
              "ticks": ""
             }
            },
            "type": "scattergl"
           }
          ],
          "scattermapbox": [
           {
            "marker": {
             "colorbar": {
              "outlinewidth": 0,
              "ticks": ""
             }
            },
            "type": "scattermapbox"
           }
          ],
          "scatterpolar": [
           {
            "marker": {
             "colorbar": {
              "outlinewidth": 0,
              "ticks": ""
             }
            },
            "type": "scatterpolar"
           }
          ],
          "scatterpolargl": [
           {
            "marker": {
             "colorbar": {
              "outlinewidth": 0,
              "ticks": ""
             }
            },
            "type": "scatterpolargl"
           }
          ],
          "scatterternary": [
           {
            "marker": {
             "colorbar": {
              "outlinewidth": 0,
              "ticks": ""
             }
            },
            "type": "scatterternary"
           }
          ],
          "surface": [
           {
            "colorbar": {
             "outlinewidth": 0,
             "ticks": ""
            },
            "colorscale": [
             [
              0,
              "#0d0887"
             ],
             [
              0.1111111111111111,
              "#46039f"
             ],
             [
              0.2222222222222222,
              "#7201a8"
             ],
             [
              0.3333333333333333,
              "#9c179e"
             ],
             [
              0.4444444444444444,
              "#bd3786"
             ],
             [
              0.5555555555555556,
              "#d8576b"
             ],
             [
              0.6666666666666666,
              "#ed7953"
             ],
             [
              0.7777777777777778,
              "#fb9f3a"
             ],
             [
              0.8888888888888888,
              "#fdca26"
             ],
             [
              1,
              "#f0f921"
             ]
            ],
            "type": "surface"
           }
          ],
          "table": [
           {
            "cells": {
             "fill": {
              "color": "#EBF0F8"
             },
             "line": {
              "color": "white"
             }
            },
            "header": {
             "fill": {
              "color": "#C8D4E3"
             },
             "line": {
              "color": "white"
             }
            },
            "type": "table"
           }
          ]
         },
         "layout": {
          "annotationdefaults": {
           "arrowcolor": "#2a3f5f",
           "arrowhead": 0,
           "arrowwidth": 1
          },
          "autotypenumbers": "strict",
          "coloraxis": {
           "colorbar": {
            "outlinewidth": 0,
            "ticks": ""
           }
          },
          "colorscale": {
           "diverging": [
            [
             0,
             "#8e0152"
            ],
            [
             0.1,
             "#c51b7d"
            ],
            [
             0.2,
             "#de77ae"
            ],
            [
             0.3,
             "#f1b6da"
            ],
            [
             0.4,
             "#fde0ef"
            ],
            [
             0.5,
             "#f7f7f7"
            ],
            [
             0.6,
             "#e6f5d0"
            ],
            [
             0.7,
             "#b8e186"
            ],
            [
             0.8,
             "#7fbc41"
            ],
            [
             0.9,
             "#4d9221"
            ],
            [
             1,
             "#276419"
            ]
           ],
           "sequential": [
            [
             0,
             "#0d0887"
            ],
            [
             0.1111111111111111,
             "#46039f"
            ],
            [
             0.2222222222222222,
             "#7201a8"
            ],
            [
             0.3333333333333333,
             "#9c179e"
            ],
            [
             0.4444444444444444,
             "#bd3786"
            ],
            [
             0.5555555555555556,
             "#d8576b"
            ],
            [
             0.6666666666666666,
             "#ed7953"
            ],
            [
             0.7777777777777778,
             "#fb9f3a"
            ],
            [
             0.8888888888888888,
             "#fdca26"
            ],
            [
             1,
             "#f0f921"
            ]
           ],
           "sequentialminus": [
            [
             0,
             "#0d0887"
            ],
            [
             0.1111111111111111,
             "#46039f"
            ],
            [
             0.2222222222222222,
             "#7201a8"
            ],
            [
             0.3333333333333333,
             "#9c179e"
            ],
            [
             0.4444444444444444,
             "#bd3786"
            ],
            [
             0.5555555555555556,
             "#d8576b"
            ],
            [
             0.6666666666666666,
             "#ed7953"
            ],
            [
             0.7777777777777778,
             "#fb9f3a"
            ],
            [
             0.8888888888888888,
             "#fdca26"
            ],
            [
             1,
             "#f0f921"
            ]
           ]
          },
          "colorway": [
           "#636efa",
           "#EF553B",
           "#00cc96",
           "#ab63fa",
           "#FFA15A",
           "#19d3f3",
           "#FF6692",
           "#B6E880",
           "#FF97FF",
           "#FECB52"
          ],
          "font": {
           "color": "#2a3f5f"
          },
          "geo": {
           "bgcolor": "white",
           "lakecolor": "white",
           "landcolor": "#E5ECF6",
           "showlakes": true,
           "showland": true,
           "subunitcolor": "white"
          },
          "hoverlabel": {
           "align": "left"
          },
          "hovermode": "closest",
          "mapbox": {
           "style": "light"
          },
          "paper_bgcolor": "white",
          "plot_bgcolor": "#E5ECF6",
          "polar": {
           "angularaxis": {
            "gridcolor": "white",
            "linecolor": "white",
            "ticks": ""
           },
           "bgcolor": "#E5ECF6",
           "radialaxis": {
            "gridcolor": "white",
            "linecolor": "white",
            "ticks": ""
           }
          },
          "scene": {
           "xaxis": {
            "backgroundcolor": "#E5ECF6",
            "gridcolor": "white",
            "gridwidth": 2,
            "linecolor": "white",
            "showbackground": true,
            "ticks": "",
            "zerolinecolor": "white"
           },
           "yaxis": {
            "backgroundcolor": "#E5ECF6",
            "gridcolor": "white",
            "gridwidth": 2,
            "linecolor": "white",
            "showbackground": true,
            "ticks": "",
            "zerolinecolor": "white"
           },
           "zaxis": {
            "backgroundcolor": "#E5ECF6",
            "gridcolor": "white",
            "gridwidth": 2,
            "linecolor": "white",
            "showbackground": true,
            "ticks": "",
            "zerolinecolor": "white"
           }
          },
          "shapedefaults": {
           "line": {
            "color": "#2a3f5f"
           }
          },
          "ternary": {
           "aaxis": {
            "gridcolor": "white",
            "linecolor": "white",
            "ticks": ""
           },
           "baxis": {
            "gridcolor": "white",
            "linecolor": "white",
            "ticks": ""
           },
           "bgcolor": "#E5ECF6",
           "caxis": {
            "gridcolor": "white",
            "linecolor": "white",
            "ticks": ""
           }
          },
          "title": {
           "x": 0.05
          },
          "xaxis": {
           "automargin": true,
           "gridcolor": "white",
           "linecolor": "white",
           "ticks": "",
           "title": {
            "standoff": 15
           },
           "zerolinecolor": "white",
           "zerolinewidth": 2
          },
          "yaxis": {
           "automargin": true,
           "gridcolor": "white",
           "linecolor": "white",
           "ticks": "",
           "title": {
            "standoff": 15
           },
           "zerolinecolor": "white",
           "zerolinewidth": 2
          }
         }
        },
        "title": {
         "text": "Percentage Distribution of Ratings"
        },
        "width": 800
       }
      }
     },
     "metadata": {},
     "output_type": "display_data"
    }
   ],
   "source": [
    "def plot_rating_percentage_pie(df, column_name):\n",
    "    percentage = df[column_name].value_counts(normalize=True) * 100\n",
    "    \n",
    "    fig = px.pie(\n",
    "        values=percentage.values, \n",
    "        names=percentage.index, \n",
    "        title='Percentage Distribution of Ratings',\n",
    "        labels={column_name: 'Ratings'}\n",
    "    )\n",
    "    \n",
    "    fig.update_traces(textposition='inside', textinfo='percent+label')\n",
    "    fig.update_layout(showlegend=True, height=600, width=800)\n",
    "    fig.show()\n",
    "plot_rating_percentage_pie(df, 'Rating')"
   ]
  },
  {
   "cell_type": "code",
   "execution_count": 297,
   "metadata": {},
   "outputs": [],
   "source": [
    "cv=CountVectorizer(stop_words='english')\n",
    "words=cv.fit_transform(df.Review)"
   ]
  },
  {
   "cell_type": "code",
   "execution_count": 298,
   "metadata": {},
   "outputs": [
    {
     "data": {
      "text/plain": [
       "{'does': 279,\n",
       " 'absolutely': 20,\n",
       " 'linkedin': 586,\n",
       " 'beginner': 106,\n",
       " 'force': 378,\n",
       " 'closes': 179,\n",
       " 'useless': 1128,\n",
       " 'app': 57,\n",
       " 'close': 176,\n",
       " 'galaxy': 410,\n",
       " 'tab': 1017,\n",
       " 'slow': 950,\n",
       " 'tries': 1075,\n",
       " 'upload': 1117,\n",
       " 'contacts': 217,\n",
       " 'asking': 70,\n",
       " 'wtf': 1195,\n",
       " 'add': 33,\n",
       " 'ability': 17,\n",
       " 'customize': 238,\n",
       " 'profile': 789,\n",
       " 'sd': 896,\n",
       " 'card': 153,\n",
       " 'star': 974,\n",
       " 'good': 426,\n",
       " 'pain': 727,\n",
       " 'possible': 771,\n",
       " 'sent': 912,\n",
       " 'messages': 645,\n",
       " 'kind': 557,\n",
       " 'confusing': 203,\n",
       " 'message': 644,\n",
       " 'poor': 767,\n",
       " 'bad': 97,\n",
       " 'htc': 477,\n",
       " 'desire': 259,\n",
       " 'bugged': 139,\n",
       " 'finally': 368,\n",
       " 'using': 1133,\n",
       " 'droidin': 295,\n",
       " 'rating': 809,\n",
       " 'thank': 1037,\n",
       " 'kyle': 559,\n",
       " 'evo': 327,\n",
       " 'works': 1187,\n",
       " 'fine': 370,\n",
       " 'samsung': 885,\n",
       " 'captivate': 152,\n",
       " 'clean': 167,\n",
       " 'design': 257,\n",
       " 'limited': 583,\n",
       " 'features': 357,\n",
       " 'adding': 35,\n",
       " 'invites': 532,\n",
       " 'email': 309,\n",
       " 'address': 36,\n",
       " 'book': 121,\n",
       " 'integration': 520,\n",
       " 'functionality': 401,\n",
       " 'uninstalling': 1100,\n",
       " 'like': 580,\n",
       " 'group': 434,\n",
       " 'access': 23,\n",
       " 'piece': 755,\n",
       " 'really': 815,\n",
       " 'want': 1160,\n",
       " 'people': 740,\n",
       " 'use': 1123,\n",
       " 'simple': 937,\n",
       " 'basic': 101,\n",
       " 'perfectly': 742,\n",
       " 'main': 624,\n",
       " 'functions': 402,\n",
       " 'fast': 352,\n",
       " 'stable': 971,\n",
       " 'pay': 736,\n",
       " 'lame': 563,\n",
       " 'try': 1080,\n",
       " 'later': 569,\n",
       " 'sync': 1012,\n",
       " 'unnecessary': 1104,\n",
       " 'drains': 291,\n",
       " 'battery': 104,\n",
       " 'special': 967,\n",
       " 'comparing': 194,\n",
       " 'web': 1164,\n",
       " 'enable': 312,\n",
       " 'install': 516,\n",
       " 'sdcard': 897,\n",
       " 'start': 976,\n",
       " 'emulating': 311,\n",
       " 'program': 790,\n",
       " 'android': 52,\n",
       " 'haven': 455,\n",
       " 'experienced': 336,\n",
       " 'problems': 785,\n",
       " 'mighty': 649,\n",
       " 'jam': 541,\n",
       " 'fellows': 360,\n",
       " 'great': 432,\n",
       " 'better': 113,\n",
       " 'laptop': 565,\n",
       " 'needs': 683,\n",
       " 'image': 489,\n",
       " 'aval': 85,\n",
       " 'website': 1166,\n",
       " 'app2sd': 58,\n",
       " 'nice': 692,\n",
       " 'include': 501,\n",
       " 'scan': 889,\n",
       " 'update': 1109,\n",
       " 'uh': 1086,\n",
       " 'groups': 435,\n",
       " 'working': 1186,\n",
       " 'dhd': 265,\n",
       " 'li': 579,\n",
       " 'reading': 812,\n",
       " 'reviews': 862,\n",
       " 'epic': 320,\n",
       " '4g': 12,\n",
       " 'mon': 663,\n",
       " 'lg': 578,\n",
       " 'optimus': 716,\n",
       " 'wont': 1183,\n",
       " 'let': 575,\n",
       " 'edit': 305,\n",
       " 'doesn': 280,\n",
       " 'information': 510,\n",
       " 'picture': 754,\n",
       " 'phone': 749,\n",
       " 'crashed': 230,\n",
       " 'run': 878,\n",
       " 'running': 879,\n",
       " 'separate': 913,\n",
       " 'tabs': 1019,\n",
       " 'sections': 903,\n",
       " 'ace': 28,\n",
       " 'looked': 613,\n",
       " 'stopped': 988,\n",
       " 'hd': 457,\n",
       " 'non': 697,\n",
       " 'market': 631,\n",
       " 'beta': 112,\n",
       " 'worked': 1185,\n",
       " 'release': 836,\n",
       " 'crashes': 231,\n",
       " 'startup': 978,\n",
       " 'x10': 1196,\n",
       " 'mini': 653,\n",
       " 'pro': 782,\n",
       " 'closing': 180,\n",
       " 'looking': 614,\n",
       " 'updates': 1111,\n",
       " 'views': 1151,\n",
       " 'real': 813,\n",
       " 'value': 1137,\n",
       " 'option': 717,\n",
       " 'theory': 1042,\n",
       " 'reality': 814,\n",
       " 'keeps': 550,\n",
       " 'crashing': 232,\n",
       " 'pressing': 777,\n",
       " 'button': 144,\n",
       " 'screen': 893,\n",
       " 'goes': 422,\n",
       " 'black': 117,\n",
       " 'wait': 1157,\n",
       " 'version': 1143,\n",
       " 'ok': 706,\n",
       " 'retrieving': 859,\n",
       " 'contact': 216,\n",
       " 'currently': 237,\n",
       " 'quite': 805,\n",
       " 'bit': 115,\n",
       " 'useful': 1126,\n",
       " 'able': 18,\n",
       " 'confirm': 202,\n",
       " 'invitations': 530,\n",
       " 'sending': 909,\n",
       " 'issues': 538,\n",
       " 'future': 406,\n",
       " 'enhancements': 318,\n",
       " 'make': 627,\n",
       " 'way': 1162,\n",
       " 'search': 899,\n",
       " 'browsing': 135,\n",
       " 'don': 283,\n",
       " 'load': 597,\n",
       " 'continual': 220,\n",
       " 'booting': 124,\n",
       " 'sign': 933,\n",
       " 'just': 548,\n",
       " 'hangs': 448,\n",
       " 'loading': 599,\n",
       " 'droid': 293,\n",
       " 'initially': 512,\n",
       " 'best': 111,\n",
       " 'avoid': 86,\n",
       " 'vibrates': 1146,\n",
       " 'time': 1056,\n",
       " 'love': 621,\n",
       " 'undergone': 1093,\n",
       " 'thorough': 1047,\n",
       " 'testing': 1034,\n",
       " 'used': 1125,\n",
       " 'work': 1184,\n",
       " 'clicking': 174,\n",
       " 'menu': 641,\n",
       " 'changes': 161,\n",
       " 'basically': 102,\n",
       " 'log': 603,\n",
       " 'fail': 343,\n",
       " 'gingerbread': 416,\n",
       " 'trying': 1081,\n",
       " 'navigate': 679,\n",
       " 'action': 30,\n",
       " 'forces': 380,\n",
       " 'till': 1055,\n",
       " 'yesterday': 1201,\n",
       " 'need': 681,\n",
       " 'landscape': 564,\n",
       " 'mode': 659,\n",
       " 'xoom': 1198,\n",
       " 'constantly': 215,\n",
       " 'unusable': 1107,\n",
       " 'past': 735,\n",
       " 'home': 468,\n",
       " 'mobile': 658,\n",
       " 'mt4g': 673,\n",
       " 'charm': 163,\n",
       " 'installed': 517,\n",
       " 'deleted': 252,\n",
       " 'exchange': 330,\n",
       " 'account': 25,\n",
       " 'related': 835,\n",
       " 'calander': 147,\n",
       " 'uninstalled': 1099,\n",
       " 'disappointing': 273,\n",
       " 'wildfire': 1176,\n",
       " 'far': 350,\n",
       " 'thunderbolt': 1051,\n",
       " 'refreshing': 827,\n",
       " 'opening': 712,\n",
       " 'matter': 633,\n",
       " 'big': 114,\n",
       " 'min': 651,\n",
       " 'page': 725,\n",
       " 'click': 172,\n",
       " 'hundreds': 479,\n",
       " 'apps': 64,\n",
       " 'motorola': 667,\n",
       " 'quench': 800,\n",
       " 'xt502': 1200,\n",
       " 'won': 1180,\n",
       " 'updated': 1110,\n",
       " 'review': 861,\n",
       " 'restarted': 854,\n",
       " 'negative': 685,\n",
       " 'settings': 920,\n",
       " 'options': 718,\n",
       " 'notifications': 699,\n",
       " 'freezes': 388,\n",
       " 'signing': 935,\n",
       " 'process': 786,\n",
       " 'change': 158,\n",
       " 'fc': 355,\n",
       " 'did': 267,\n",
       " 'nights': 695,\n",
       " 'text': 1035,\n",
       " 'ads': 39,\n",
       " 'stupid': 998,\n",
       " 'thing': 1043,\n",
       " 'leave': 573,\n",
       " 'takes': 1020,\n",
       " 'valuable': 1136,\n",
       " 'memory': 639,\n",
       " 'reinstall': 831,\n",
       " 'hero': 463,\n",
       " 'sucks': 1003,\n",
       " 'hopefully': 472,\n",
       " 'network': 686,\n",
       " 'developer': 262,\n",
       " 'fix': 372,\n",
       " 'setting': 919,\n",
       " 'syncs': 1016,\n",
       " 'crap': 228,\n",
       " 'milestone': 650,\n",
       " 'removing': 842,\n",
       " 'forever': 382,\n",
       " 'tried': 1074,\n",
       " 'new': 688,\n",
       " 'issue': 537,\n",
       " 'installing': 518,\n",
       " 'staying': 982,\n",
       " 'xperia': 1199,\n",
       " 'shame': 923,\n",
       " 'incredibly': 507,\n",
       " 'pretty': 778,\n",
       " 'droidx': 296,\n",
       " 'ti': 1053,\n",
       " 'mute': 675,\n",
       " 'point': 764,\n",
       " 'mainly': 625,\n",
       " 'tablet': 1018,\n",
       " 'lack': 560,\n",
       " 'support': 1006,\n",
       " 'major': 626,\n",
       " 'mention': 640,\n",
       " 'fact': 342,\n",
       " 'somewhat': 959,\n",
       " 'moment': 662,\n",
       " 'open': 711,\n",
       " 'provides': 794,\n",
       " '10': 1,\n",
       " 'runs': 880,\n",
       " 'background': 94,\n",
       " 'didn': 268,\n",
       " 'true': 1077,\n",
       " 'view': 1148,\n",
       " 'stats': 980,\n",
       " 'space': 966,\n",
       " 'stars': 975,\n",
       " 'little': 594,\n",
       " 'late': 568,\n",
       " 'freezing': 389,\n",
       " 'vibrant': 1145,\n",
       " 'acting': 29,\n",
       " 'took': 1063,\n",
       " 'awhile': 91,\n",
       " 'glad': 419,\n",
       " 'came': 149,\n",
       " 'g2x': 408,\n",
       " 'wish': 1178,\n",
       " 'atrix': 74,\n",
       " '3g': 10,\n",
       " 'searching': 900,\n",
       " 'glitchy': 420,\n",
       " 'truly': 1078,\n",
       " 'dont': 284,\n",
       " 'scared': 890,\n",
       " 'facebook': 340,\n",
       " 'looknfeel': 615,\n",
       " 'allow': 44,\n",
       " 'send': 908,\n",
       " 'connection': 209,\n",
       " 'field': 361,\n",
       " 'instead': 519,\n",
       " 'person': 748,\n",
       " 'clicked': 173,\n",
       " 'invite': 531,\n",
       " 'pages': 726,\n",
       " 'broke': 131,\n",
       " 'froyo': 394,\n",
       " 'longer': 611,\n",
       " 'wifi': 1175,\n",
       " 'compared': 193,\n",
       " 'opportunities': 715,\n",
       " 'development': 264,\n",
       " 'improvements': 498,\n",
       " 'arc': 66,\n",
       " 'keeping': 549,\n",
       " 'track': 1068,\n",
       " 'fly': 375,\n",
       " 'regularly': 830,\n",
       " 'included': 502,\n",
       " 'bring': 130,\n",
       " '50': 13,\n",
       " '100': 2,\n",
       " 'sort': 964,\n",
       " 'nexus': 690,\n",
       " 'perfect': 741,\n",
       " 'widget': 1174,\n",
       " 'site': 941,\n",
       " 'allowed': 45,\n",
       " 'easily': 302,\n",
       " 'needed': 682,\n",
       " 'formatting': 384,\n",
       " 'messaging': 646,\n",
       " 'fixed': 373,\n",
       " 'tell': 1031,\n",
       " 'paragraph': 729,\n",
       " 'breaks': 127,\n",
       " 'typing': 1085,\n",
       " 'incredible': 506,\n",
       " 'synchronizes': 1014,\n",
       " 'total': 1065,\n",
       " 'freeze': 387,\n",
       " 'pls': 760,\n",
       " 'aún': 93,\n",
       " 'faltan': 346,\n",
       " 'funciones': 398,\n",
       " 'loads': 600,\n",
       " 'shows': 931,\n",
       " 'icons': 484,\n",
       " 'thats': 1039,\n",
       " 'minutes': 655,\n",
       " 'usable': 1122,\n",
       " 'unistall': 1102,\n",
       " 'looks': 616,\n",
       " 'data': 243,\n",
       " 'waited': 1158,\n",
       " 'ended': 314,\n",
       " 'giving': 418,\n",
       " 'bother': 126,\n",
       " 'downloading': 289,\n",
       " 'benefit': 109,\n",
       " 'having': 456,\n",
       " 'company': 192,\n",
       " 'buggy': 140,\n",
       " 'lacking': 561,\n",
       " 'discussions': 276,\n",
       " 'addressbook': 37,\n",
       " 'code': 186,\n",
       " 'ui': 1087,\n",
       " 'thread': 1048,\n",
       " 'causing': 157,\n",
       " 'opens': 713,\n",
       " 'initial': 511,\n",
       " 'nit': 696,\n",
       " 'pick': 753,\n",
       " 'logs': 608,\n",
       " '15': 5,\n",
       " 'times': 1058,\n",
       " 'wiping': 1177,\n",
       " 'brilliant': 129,\n",
       " 'doesnt': 281,\n",
       " 'remember': 839,\n",
       " 'login': 607,\n",
       " 'lite': 592,\n",
       " 'inspire': 514,\n",
       " 'extremely': 338,\n",
       " 'seen': 906,\n",
       " 'application': 62,\n",
       " 'functional': 400,\n",
       " 'uninstall': 1098,\n",
       " 'delete': 251,\n",
       " 'cool': 224,\n",
       " 'waiting': 1159,\n",
       " 'long': 610,\n",
       " 'date': 244,\n",
       " 'worse': 1189,\n",
       " 'dial': 266,\n",
       " 'reinstalled': 832,\n",
       " 'wellbut': 1169,\n",
       " 'lot': 619,\n",
       " 'expect': 334,\n",
       " 'jobs': 544,\n",
       " 'stalls': 972,\n",
       " 'couple': 227,\n",
       " 'creates': 235,\n",
       " 'ease': 300,\n",
       " 'helps': 462,\n",
       " 'provide': 793,\n",
       " 'timely': 1057,\n",
       " 'feedback': 358,\n",
       " 'questions': 801,\n",
       " 'member': 638,\n",
       " 'liked': 581,\n",
       " 'ages': 41,\n",
       " 'lacks': 562,\n",
       " 'beginning': 107,\n",
       " 'slowwwww': 954,\n",
       " 'logging': 606,\n",
       " 'unresponsive': 1105,\n",
       " 'logged': 604,\n",
       " 'ending': 315,\n",
       " 'exactly': 328,\n",
       " 'reinstated': 834,\n",
       " 'mytouch': 677,\n",
       " 'interface': 524,\n",
       " 'connecting': 208,\n",
       " 'upgrade': 1114,\n",
       " 'gets': 414,\n",
       " 'droid2': 294,\n",
       " 'discussion': 275,\n",
       " 'feature': 356,\n",
       " 'likes': 582,\n",
       " 'editing': 307,\n",
       " 'grew': 433,\n",
       " 'standalone': 973,\n",
       " 'going': 423,\n",
       " 'key': 553,\n",
       " 'sameer': 884,\n",
       " 'kep': 551,\n",
       " 'improving': 499,\n",
       " 'fancy': 348,\n",
       " '3d': 9,\n",
       " 'characters': 162,\n",
       " 'maybe': 634,\n",
       " 'invisible': 528,\n",
       " 'idea': 486,\n",
       " 'missing': 657,\n",
       " 'password': 733,\n",
       " 'stored': 991,\n",
       " 'plane': 758,\n",
       " 'removed': 841,\n",
       " 'wow': 1194,\n",
       " 'strong': 996,\n",
       " 'execution': 331,\n",
       " 'icon': 483,\n",
       " 'remove': 840,\n",
       " 'available': 84,\n",
       " 'function': 399,\n",
       " 'minus': 654,\n",
       " 'points': 766,\n",
       " 'forward': 386,\n",
       " 'official': 705,\n",
       " 'dissapointing': 277,\n",
       " 'favour': 354,\n",
       " 'updating': 1112,\n",
       " 'status': 981,\n",
       " 'touch': 1067,\n",
       " 'intend': 521,\n",
       " 'daily': 240,\n",
       " 'kept': 552,\n",
       " 'getting': 415,\n",
       " 'hunged': 480,\n",
       " 'filtering': 367,\n",
       " 'practical': 774,\n",
       " 'muy': 676,\n",
       " 'grande': 430,\n",
       " 'sería': 917,\n",
       " 'bueno': 137,\n",
       " 'poder': 763,\n",
       " 'moverlo': 669,\n",
       " 'al': 42,\n",
       " 'lo': 596,\n",
       " 'tenido': 1032,\n",
       " 'que': 799,\n",
       " 'quitar': 804,\n",
       " 'beses': 110,\n",
       " 'por': 769,\n",
       " 'ocupo': 703,\n",
       " 'espacio': 323,\n",
       " 'job': 543,\n",
       " 'respond': 853,\n",
       " 'filter': 366,\n",
       " 'connections': 210,\n",
       " 'random': 806,\n",
       " 'fxxking': 407,\n",
       " 'general': 413,\n",
       " 'browsed': 133,\n",
       " 'horribly': 475,\n",
       " 'got': 428,\n",
       " 'tired': 1059,\n",
       " 'content': 219,\n",
       " '100mb': 3,\n",
       " 'loaded': 598,\n",
       " 'quickly': 803,\n",
       " 'fairly': 345,\n",
       " 'interact': 522,\n",
       " 'keyboard': 554,\n",
       " 'signin': 934,\n",
       " 'says': 888,\n",
       " 'internet': 525,\n",
       " 'spinning': 969,\n",
       " 'wheel': 1171,\n",
       " 'buttons': 145,\n",
       " 'control': 223,\n",
       " 'intervals': 526,\n",
       " 'multiple': 674,\n",
       " 'accounts': 26,\n",
       " 'excellent': 329,\n",
       " 'loses': 617,\n",
       " 'inability': 500,\n",
       " 'professionally': 788,\n",
       " 'feels': 359,\n",
       " 'improvement': 497,\n",
       " 'released': 837,\n",
       " 'soon': 961,\n",
       " 'think': 1045,\n",
       " 'asap': 68,\n",
       " 'larger': 567,\n",
       " 'enter': 319,\n",
       " 'id': 485,\n",
       " 'pass': 732,\n",
       " 'recommend': 822,\n",
       " 'stop': 987,\n",
       " 'clear': 168,\n",
       " 's2': 882,\n",
       " 'sits': 943,\n",
       " 'receive': 818,\n",
       " 'happy': 451,\n",
       " 'obviously': 701,\n",
       " 'listening': 591,\n",
       " 'users': 1132,\n",
       " 'connectivity': 211,\n",
       " 'viewing': 1150,\n",
       " 'platform': 759,\n",
       " '20mins': 7,\n",
       " 'easier': 301,\n",
       " 'straight': 993,\n",
       " 'disappointment': 274,\n",
       " 'changed': 159,\n",
       " 'register': 828,\n",
       " 'saying': 887,\n",
       " 'incorrect': 505,\n",
       " 'know': 558,\n",
       " 'closed': 177,\n",
       " 'vs': 1155,\n",
       " 'social': 957,\n",
       " 'media': 635,\n",
       " 'upto': 1120,\n",
       " 'level': 577,\n",
       " 'loggedin': 605,\n",
       " 'connect': 205,\n",
       " 'unsuccessful': 1106,\n",
       " 'attempts': 77,\n",
       " 'forum': 385,\n",
       " 'posts': 773,\n",
       " 'hell': 460,\n",
       " 'stock': 986,\n",
       " 'high': 464,\n",
       " 'worth': 1191,\n",
       " 'penny': 739,\n",
       " 'sh': 922,\n",
       " 'mind': 652,\n",
       " 'small': 955,\n",
       " 'bug': 138,\n",
       " 'appears': 61,\n",
       " 'websites': 1167,\n",
       " 'twitter': 1084,\n",
       " 'info': 509,\n",
       " 'duplicated': 297,\n",
       " 'screens': 894,\n",
       " 'forced': 379,\n",
       " 'kill': 555,\n",
       " 'webpages': 1165,\n",
       " 'similar': 936,\n",
       " 'links': 587,\n",
       " 'tool': 1064,\n",
       " 'fascinate': 351,\n",
       " 'recommendations': 823,\n",
       " 'badly': 98,\n",
       " 'uploading': 1118,\n",
       " 'sorry': 963,\n",
       " 'locks': 602,\n",
       " 'insta': 515,\n",
       " 'plain': 757,\n",
       " 'setup': 921,\n",
       " 'browser': 134,\n",
       " 'handset': 444,\n",
       " 'weak': 1163,\n",
       " 'videocon': 1147,\n",
       " 'v7500': 1135,\n",
       " 'cmod7': 185,\n",
       " 'requested': 849,\n",
       " 'thanks': 1038,\n",
       " 'unencrypted': 1095,\n",
       " 'thx': 1052,\n",
       " 'traffic': 1071,\n",
       " 'storage': 989,\n",
       " 'passwords': 734,\n",
       " 'unforgiveable': 1097,\n",
       " 'amateur': 48,\n",
       " 'hour': 476,\n",
       " 'description': 256,\n",
       " 'basics': 103,\n",
       " 'stuff': 997,\n",
       " 'current': 236,\n",
       " 'asus': 72,\n",
       " 'transformer': 1073,\n",
       " 'username': 1131,\n",
       " 'fields': 362,\n",
       " 'white': 1172,\n",
       " 'foreground': 381,\n",
       " 'color': 188,\n",
       " 'barely': 100,\n",
       " 'brighter': 128,\n",
       " 'clunky': 182,\n",
       " 'rubbish': 876,\n",
       " 'nicely': 693,\n",
       " 'indispensable': 508,\n",
       " 'slowest': 952,\n",
       " 've': 1138,\n",
       " 'literally': 593,\n",
       " 'happens': 450,\n",
       " 'completely': 195,\n",
       " 'important': 492,\n",
       " 'created': 234,\n",
       " 'bookmark': 122,\n",
       " 'probably': 783,\n",
       " 'needsmore': 684,\n",
       " 'auto': 81,\n",
       " 'rotate': 875,\n",
       " 'contct': 218,\n",
       " 'flaky': 374,\n",
       " 'v2': 1134,\n",
       " 'dell': 254,\n",
       " 'streak': 994,\n",
       " 'movable': 668,\n",
       " 'shift': 926,\n",
       " 'place': 756,\n",
       " 'msg': 671,\n",
       " 'visit': 1152,\n",
       " 'demo': 255,\n",
       " 'manage': 629,\n",
       " 'preferences': 775,\n",
       " 'slowly': 953,\n",
       " 'dx': 298,\n",
       " 'performance': 743,\n",
       " 'faster': 353,\n",
       " 'horrible': 474,\n",
       " 'requests': 850,\n",
       " 'config': 200,\n",
       " 'worthless': 1192,\n",
       " 'atleast': 73,\n",
       " 'skills': 945,\n",
       " 'damn': 241,\n",
       " 'reason': 816,\n",
       " 'comment': 190,\n",
       " 'enabled': 313,\n",
       " 'deinstalled': 250,\n",
       " 'everytime': 326,\n",
       " 'immediately': 490,\n",
       " 'decent': 248,\n",
       " 'listen': 590,\n",
       " 'error': 321,\n",
       " 'broken': 132,\n",
       " 'professional': 787,\n",
       " 'monitor': 664,\n",
       " 'capability': 151,\n",
       " 'reduces': 825,\n",
       " 'overall': 722,\n",
       " 'usefulness': 1127,\n",
       " 'taste': 1026,\n",
       " 'higher': 465,\n",
       " 'errors': 322,\n",
       " 'latest': 570,\n",
       " 'launch': 571,\n",
       " 'constant': 214,\n",
       " 'crash': 229,\n",
       " 'asks': 71,\n",
       " 'importing': 493,\n",
       " 'private': 781,\n",
       " 'ipo': 534,\n",
       " 'miss': 656,\n",
       " 'old': 708,\n",
       " 'terribly': 1033,\n",
       " 'fails': 344,\n",
       " 'result': 855,\n",
       " 'letting': 576,\n",
       " 'absolutelly': 19,\n",
       " 'implementation': 491,\n",
       " 'sleep': 947,\n",
       " 'considering': 212,\n",
       " 'throwing': 1049,\n",
       " 'useable': 1124,\n",
       " '20': 6,\n",
       " '06': 0,\n",
       " '11': 4,\n",
       " 'hanging': 447,\n",
       " 'unable': 1088,\n",
       " 'verify': 1140,\n",
       " 'a893': 16,\n",
       " 'allot': 43,\n",
       " 'killed': 556,\n",
       " 'theapplication': 1041,\n",
       " 'burn': 141,\n",
       " 'dead': 247,\n",
       " 'occasionally': 702,\n",
       " 'moving': 670,\n",
       " 'dog': 282,\n",
       " 'apparently': 59,\n",
       " 'blank': 118,\n",
       " 'isn': 536,\n",
       " 'i5801': 481,\n",
       " 'syncing': 1015,\n",
       " 'shutting': 932,\n",
       " 'disappointed': 272,\n",
       " 'guy': 439,\n",
       " 'understatement': 1094,\n",
       " 'half': 443,\n",
       " 'awfully': 90,\n",
       " 'scope': 892,\n",
       " 'regular': 829,\n",
       " 'hoops': 470,\n",
       " 'jump': 546,\n",
       " 'gone': 425,\n",
       " 'gainfully': 409,\n",
       " 'employed': 310,\n",
       " 'horizontal': 473,\n",
       " 'll': 595,\n",
       " 'golden': 424,\n",
       " 'opinion': 714,\n",
       " 'makes': 628,\n",
       " 'sends': 910,\n",
       " 'report': 848,\n",
       " '3rd': 11,\n",
       " 'grader': 429,\n",
       " 'programming': 791,\n",
       " 'nexus1': 691,\n",
       " 'replace': 846,\n",
       " 'pc': 737,\n",
       " 'rate': 808,\n",
       " 'ryt': 881,\n",
       " 'slower': 951,\n",
       " 'rarely': 807,\n",
       " 'super': 1005,\n",
       " 'honeycomb': 469,\n",
       " 'plus': 762,\n",
       " 'leaves': 574,\n",
       " 'lots': 620,\n",
       " 'room': 873,\n",
       " 'developers': 263,\n",
       " 'galaxys': 411,\n",
       " 'recent': 819,\n",
       " 'went': 1170,\n",
       " 'thumbs': 1050,\n",
       " 'fuss': 405,\n",
       " 'completley': 197,\n",
       " 'reinstalling': 833,\n",
       " 'hog': 467,\n",
       " 'share': 924,\n",
       " 'party': 731,\n",
       " 'look': 612,\n",
       " 'x8': 1197,\n",
       " 'required': 851,\n",
       " 'downloaded': 288,\n",
       " 'sprint': 970,\n",
       " 'heavy': 459,\n",
       " 'linked': 585,\n",
       " 'andriod': 51,\n",
       " 'upper': 1119,\n",
       " 'right': 867,\n",
       " 'corner': 225,\n",
       " 'tap': 1023,\n",
       " 'completing': 196,\n",
       " 'added': 34,\n",
       " 'previous': 779,\n",
       " 'dashboard': 242,\n",
       " 'unbelievably': 1091,\n",
       " 'sure': 1008,\n",
       " 'amazed': 49,\n",
       " 'turd': 1082,\n",
       " 'simply': 939,\n",
       " 'fantastic': 349,\n",
       " 'fronts': 393,\n",
       " 'wonder': 1181,\n",
       " 'cares': 154,\n",
       " 'computer': 198,\n",
       " 'crawl': 233,\n",
       " 'manages': 630,\n",
       " 'worst': 1190,\n",
       " 'refresh': 826,\n",
       " 'toasted': 1062,\n",
       " 'soner': 960,\n",
       " 'eclair': 304,\n",
       " 'scl': 891,\n",
       " 'i9003': 482,\n",
       " 'gives': 417,\n",
       " 'twice': 1083,\n",
       " 'sooooo': 962,\n",
       " 'reverted': 860,\n",
       " 'anymore': 55,\n",
       " 'clearing': 170,\n",
       " 'cache': 146,\n",
       " 'repaired': 844,\n",
       " 'cycle': 239,\n",
       " 'shouldn': 929,\n",
       " 'overly': 723,\n",
       " 'taxing': 1028,\n",
       " 'resources': 852,\n",
       " 'booooo': 123,\n",
       " 'junk': 547,\n",
       " 'started': 977,\n",
       " 'causes': 156,\n",
       " 'seconds': 901,\n",
       " 'supposed': 1007,\n",
       " 'draw': 292,\n",
       " 'networking': 687,\n",
       " 'awful': 89,\n",
       " 'promising': 792,\n",
       " 'retrieve': 858,\n",
       " '90': 15,\n",
       " 'presents': 776,\n",
       " 'moto': 666,\n",
       " 'defy': 249,\n",
       " 'os': 720,\n",
       " 'guys': 440,\n",
       " 'seriously': 914,\n",
       " 'bleh': 119,\n",
       " 'come': 189,\n",
       " 'istalling': 539,\n",
       " 'read': 810,\n",
       " 'news': 689,\n",
       " 'handy': 445,\n",
       " 'meet': 636,\n",
       " 'conferences': 199,\n",
       " 'mytouch3g': 678,\n",
       " 'continues': 222,\n",
       " 'idle': 488,\n",
       " '2nd': 8,\n",
       " 'online': 710,\n",
       " 'til': 1054,\n",
       " 'trouble': 1076,\n",
       " 'unbelievable': 1090,\n",
       " 'actually': 32,\n",
       " 'thc': 1040,\n",
       " 'user': 1130,\n",
       " 'friendly': 391,\n",
       " 'pull': 796,\n",
       " 'bored': 125,\n",
       " 'sensation': 911,\n",
       " 'avail': 82,\n",
       " 'help': 461,\n",
       " 'expand': 333,\n",
       " 'world': 1188,\n",
       " 'upgraded': 1115,\n",
       " 'intercept': 523,\n",
       " 'serves': 915,\n",
       " 'purpose': 797,\n",
       " 'died': 269,\n",
       " 'download': 287,\n",
       " 'reply': 847,\n",
       " 'accept': 21,\n",
       " 'screensaver': 895,\n",
       " 'sdk': 898,\n",
       " 'authenticate': 80,\n",
       " 'correctly': 226,\n",
       " 'tmobile': 1061,\n",
       " 'connected': 206,\n",
       " 'pointless': 765,\n",
       " 'unlike': 1103,\n",
       " 'recently': 820,\n",
       " 'probe': 784,\n",
       " 'away': 87,\n",
       " 'coice': 187,\n",
       " 'suchs': 1002,\n",
       " 'ether': 325,\n",
       " 'frustratingly': 397,\n",
       " 'iphone': 533,\n",
       " 'step': 983,\n",
       " 'team': 1029,\n",
       " 'near': 680,\n",
       " 'uselessness': 1129,\n",
       " 'painfully': 728,\n",
       " 'worthy': 1193,\n",
       " 'substitute': 1000,\n",
       " 'desktop': 260,\n",
       " 'tmo': 1060,\n",
       " 'losing': 618,\n",
       " 'google': 427,\n",
       " 'public': 795,\n",
       " 'availability': 83,\n",
       " 'rolls': 872,\n",
       " 'actions': 31,\n",
       " 'sites': 942,\n",
       " 'void': 1154,\n",
       " 'uncomplicated': 1092,\n",
       " 'redesign': 824,\n",
       " 'busy': 143,\n",
       " 'bloated': 120,\n",
       " 'ridiculous': 866,\n",
       " 'animation': 53,\n",
       " 'unwanted': 1108,\n",
       " 'strip': 995,\n",
       " 'improved': 496,\n",
       " 'vers': 1141,\n",
       " 'outstanding': 721,\n",
       " 'massive': 632,\n",
       " 'header': 458,\n",
       " 'advertising': 40,\n",
       " 'articles': 67,\n",
       " 'hate': 454,\n",
       " 'cheesy': 165,\n",
       " 'pic': 752,\n",
       " 'connectin': 207,\n",
       " 'link': 584,\n",
       " 'funtionalities': 403,\n",
       " 'ver': 1139,\n",
       " 'awesome': 88,\n",
       " 'surprise': 1009,\n",
       " 'expectations': 335,\n",
       " 'modification': 660,\n",
       " 'loving': 623,\n",
       " 'swoosh': 1011,\n",
       " 'versions': 1144,\n",
       " 'nicer': 694,\n",
       " 'versiom': 1142,\n",
       " 'rights': 868,\n",
       " 'trust': 1079,\n",
       " 'ordinary': 719,\n",
       " 'resume': 856,\n",
       " 'offers': 704,\n",
       " 'intuitive': 527,\n",
       " 'wonderful': 1182,\n",
       " 'business': 142,\n",
       " 'accessing': 24,\n",
       " 'particular': 730,\n",
       " 'unfettered': 1096,\n",
       " 'layout': 572,\n",
       " 'froze': 395,\n",
       " 'gs2': 436,\n",
       " 'happened': 449,\n",
       " 'months': 665,\n",
       " 'owning': 724,\n",
       " 'security': 905,\n",
       " 'showed': 930,\n",
       " 'somebody': 958,\n",
       " ...}"
      ]
     },
     "execution_count": 298,
     "metadata": {},
     "output_type": "execute_result"
    }
   ],
   "source": [
    "cv.vocabulary_"
   ]
  },
  {
   "cell_type": "code",
   "execution_count": 339,
   "metadata": {},
   "outputs": [
    {
     "data": {
      "image/png": "[encoded data removed]",
      "text/plain": [
       "<Figure size 1000x800 with 1 Axes>"
      ]
     },
     "metadata": {},
     "output_type": "display_data"
    }
   ],
   "source": [
    "from wordcloud import WordCloud\n",
    "word_list = cv.get_feature_names_out()\n",
    "def create_wordcloud(word_list):\n",
    "# Create a dictionary with word frequencies\n",
    "    word_freq = dict(zip(word_list, words.sum(axis=0).tolist()[0]))\n",
    "\n",
    "    # Generate word cloud\n",
    "    wordcloud = WordCloud(width=800, height=400, background_color='white').generate_from_frequencies(word_freq)\n",
    "\n",
    "    # Display the word cloud\n",
    "    plt.figure(figsize=(10, 8))\n",
    "    plt.imshow(wordcloud, interpolation='bilinear')\n",
    "    plt.axis('off')\n",
    "    plt.title('Word Cloud of Reviews')\n",
    "    plt.show()\n",
    "create_wordcloud(word_list)\n"
   ]
  },
  {
   "cell_type": "code",
   "execution_count": 300,
   "metadata": {},
   "outputs": [],
   "source": [
    "def filter_positive_reviews(df,threshold):\n",
    "    return  df[df['Rating'] >= threshold]['Review']\n",
    "def filter_negative_reviews(df,threshold):\n",
    "    return  df[df['Rating'] <= threshold]['Review']\n",
    "positive_reviews = filter_positive_reviews(df,3)\n",
    "negative_reviews = filter_negative_reviews(df,2)"
   ]
  },
  {
   "cell_type": "code",
   "execution_count": 341,
   "metadata": {},
   "outputs": [
    {
     "data": {
      "text/plain": [
       "Text(0.5, 1.0, 'Word Cloud of Positive Reviews')"
      ]
     },
     "execution_count": 341,
     "metadata": {},
     "output_type": "execute_result"
    },
    {
     "data": {
      "image/png": "[encoded data removed]",
      "text/plain": [
       "<Figure size 1500x600 with 1 Axes>"
      ]
     },
     "metadata": {},
     "output_type": "display_data"
    }
   ],
   "source": [
    "words_positive = cv.fit_transform(positive_reviews)\n",
    "word_list_positive = cv.get_feature_names_out()\n",
    "word_freq_positive = dict(zip(word_list_positive, words_positive.sum(axis=0).tolist()[0]))\n",
    "# Generate word cloud for positive reviews\n",
    "wordcloud_positive = WordCloud(width=800, height=400, background_color='white').generate_from_frequencies(word_freq_positive)\n",
    "plt.figure(figsize=(15, 6))\n",
    "\n",
    "plt.subplot(1, 2, 1)\n",
    "plt.imshow(wordcloud_positive, interpolation='bilinear')\n",
    "plt.axis('off')\n",
    "plt.title('Word Cloud of Positive Reviews')"
   ]
  },
  {
   "cell_type": "code",
   "execution_count": 302,
   "metadata": {},
   "outputs": [
    {
     "data": {
      "text/plain": [
       "Text(0.5, 1.0, 'Word Cloud of Negative Reviews')"
      ]
     },
     "execution_count": 302,
     "metadata": {},
     "output_type": "execute_result"
    },
    {
     "data": {
      "image/png": "[encoded data removed]",
      "text/plain": [
       "<Figure size 1500x600 with 1 Axes>"
      ]
     },
     "metadata": {},
     "output_type": "display_data"
    }
   ],
   "source": [
    "words_negative = cv.fit_transform(negative_reviews)\n",
    "\n",
    "# Get feature names (words)\n",
    "word_list_negative = cv.get_feature_names_out()\n",
    "# Create a dictionary with word frequencies for negative reviews\n",
    "word_freq_negative = dict(zip(word_list_negative, words_negative.sum(axis=0).tolist()[0]))\n",
    "# Generate word cloud for negative reviews\n",
    "wordcloud_negative = WordCloud(width=800, height=400, background_color='white').generate_from_frequencies(word_freq_negative)\n",
    "wordcloud_negative = WordCloud(width=800, height=400, background_color='white').generate_from_frequencies(word_freq_negative)\n",
    "plt.figure(figsize=(15, 6))\n",
    "plt.subplot(1, 2, 2)\n",
    "plt.imshow(wordcloud_negative, interpolation='bilinear')\n",
    "plt.axis('off')\n",
    "plt.title('Word Cloud of Negative Reviews')"
   ]
  },
  {
   "cell_type": "markdown",
   "metadata": {},
   "source": [
    "## Preprocessing and modelling"
   ]
  },
  {
   "cell_type": "code",
   "execution_count": 303,
   "metadata": {},
   "outputs": [],
   "source": [
    "lemmatizer=WordNetLemmatizer()"
   ]
  },
  {
   "cell_type": "code",
   "execution_count": 304,
   "metadata": {},
   "outputs": [
    {
     "data": {
      "text/plain": [
       "['absolutely nothing linkedin beginner force close useless app',\n",
       " 'force close galaxy tab',\n",
       " 'slow try upload contact without asking wtf',\n",
       " 'add ability customize profile move sd card app star one',\n",
       " 'good app pain possible see sent message kind confusing message sent',\n",
       " 'app poor bad linkedin app htc desire bugged',\n",
       " 'finally',\n",
       " 'using droidin ability move sd card would get star rating thank kyle evo',\n",
       " 'work fine samsung captivate',\n",
       " 'clean design limited feature adding invite email address book integration',\n",
       " 'app work fine limited functionality uninstalling feature like group access',\n",
       " 'piece app really want people use',\n",
       " 'simple basic work perfectly main function fast stable',\n",
       " 'though pay',\n",
       " 'lame may try later feature sync unnecessary drain battery',\n",
       " 'nothing special comparing web please enable install sdcard',\n",
       " 'good start toward emulating program android experienced problem program mighty fine jam fellow',\n",
       " 'great app better laptop',\n",
       " 'bad start need feature like upload image whatever aval website app sd would nice',\n",
       " 'app include u scan contact update profile',\n",
       " 'uh group',\n",
       " 'great',\n",
       " 'working dhd',\n",
       " 'li reading review force close epic g c mon',\n",
       " 'working lg optimus',\n",
       " 'force close',\n",
       " 'wont let edit',\n",
       " 'let update profile information upload picture',\n",
       " 'phone crashed first run running fine droidin separate tab profile section samsung galaxy ace',\n",
       " 'looked good stopped working htc desire hd',\n",
       " 'non market beta worked well full release crash startup x mini pro',\n",
       " 'force closing looking contact',\n",
       " 'group update even view real value yet',\n",
       " 'need ability update edit profile',\n",
       " 'need move sd card option',\n",
       " 'looked good theory reality keep crashing pressing button screen go black bad uninstalling wait later version',\n",
       " 'great',\n",
       " 'ok retrieving contact update etc currently droidin quite bit better would useful able confirm invitation sending',\n",
       " 'work fine issue future enhancement like contact sync make great app',\n",
       " 'good start need way feature group view better search browsing',\n",
       " 'picture load bottom',\n",
       " 'continual crashing booting',\n",
       " 'sign hang loading screen droid',\n",
       " 'worked keep crashing',\n",
       " 'good initially crash best avoid update',\n",
       " 'phone vibrates crash every time galaxy much love linkedin app undergone thorough testing',\n",
       " 'used work force close clicking anything main menu',\n",
       " 'make change profile anything basically email app',\n",
       " 'log fail',\n",
       " 'ok option install sd card',\n",
       " 'force close gingerbread trying navigate anywhere droid x',\n",
       " 'force closing every action',\n",
       " 'force close every action working till yesterday',\n",
       " 'ok need landscape mode xoom',\n",
       " 'constantly trying update unusable',\n",
       " 'work get past home screen mobile mt g',\n",
       " 'work like charm',\n",
       " 'installed deleted exchange email account well related contact calander uninstalled disappointing',\n",
       " 'ok need option move sd card',\n",
       " 'unusable wildfire',\n",
       " 'far good htc thunderbolt',\n",
       " 'keep refreshing often opening linkedin part work either',\n",
       " 'force close every action galaxy tab',\n",
       " 'force close matter try',\n",
       " 'group need big change',\n",
       " 'force close worked fine update',\n",
       " 'force close every action htc desire',\n",
       " 'ten min load main page click button another ten min loading hundred apps running fine droid x one',\n",
       " 'motorola quench xt work',\n",
       " 'load past main screen evo g',\n",
       " 'updated review restarted phone app work fine negative setting option e notification etc captivate',\n",
       " 'freeze signing droid pro',\n",
       " 'force close every time sync process',\n",
       " 'change log bad review',\n",
       " 'fc',\n",
       " 'q',\n",
       " 'want app installed bad review several night get text ad stupid thing please leave alone',\n",
       " 'take valuable phone memory move sd card memory would reinstall',\n",
       " 'go past loading screen work htc hero',\n",
       " 'poor',\n",
       " 'work suck uninstalled',\n",
       " 'work hopefully using linkedin network find developer fix htc desire hd',\n",
       " 'need group setting',\n",
       " 'much anything email syncs',\n",
       " 'constantly force close uninstalling crap motorola milestone',\n",
       " 'removing beta would update forever tried new version issue installing staying w droidin',\n",
       " 'bad app uninstalled force close xperia x shame linkedin',\n",
       " 'incredibly slow pretty much unusable droidx',\n",
       " 'really value change way ti mute update access group group main point li',\n",
       " 'mainly use app xoom tablet lack landscape support major pain mention fact edit profile somewhat useless moment',\n",
       " 'force close every time open htc desire hd disappointing',\n",
       " 'work force close htc evo',\n",
       " 'app crap provides linkedin functionality run background drain battery',\n",
       " 'like uninstalling review true limited functionality ie group',\n",
       " 'great app would like able view stats though',\n",
       " 'great app',\n",
       " 'sd move space phone',\n",
       " 'would give star contact sync love',\n",
       " 'useless app little late',\n",
       " 'ok',\n",
       " 'freezing vibrant acting since last update',\n",
       " 'far good took awhile really glad finally came android version',\n",
       " 'force close g x',\n",
       " 'work well wish feature like group droid x',\n",
       " 'force close click profile',\n",
       " 'work good atrix g',\n",
       " 'need work searching someone glitchy evo g',\n",
       " 'update work uninstalling desire hd',\n",
       " 'need contact sync truly useful',\n",
       " 'dont scared facebook looknfeel way better',\n",
       " 'allow send connection invite phone field go address book instead person clicked invite',\n",
       " 'slow load page',\n",
       " 'last update broke htc desire froyo longer work except wifi really need move sd option',\n",
       " 'finally work great',\n",
       " 'ok limited compared web access opportunity development improvement',\n",
       " 'freeze crash everyone try use xperia arc',\n",
       " 'good app keeping track contact fly use regularly send message would great group function included',\n",
       " 'wtf point app bring functionality web version better sort nexus',\n",
       " 'perfect except widget functionality',\n",
       " 'ok basic linkedin functionality move feature use mobile site',\n",
       " 'allowed access group easily',\n",
       " 'app sd needed uninstalling',\n",
       " 'formatting messaging need fixed tell paragraph break typing htc incredible',\n",
       " 'freeze constantly nexus android',\n",
       " 'desire work really well good app',\n",
       " 'synchronizes something contact',\n",
       " 'total freeze first startup back droidin',\n",
       " 'pls allow edit profile',\n",
       " 'n faltan funciones',\n",
       " 'work load show icon thats',\n",
       " 'slow start take several minute app usable unistall linkedin htc much much better',\n",
       " 'look work well galaxy ace even edit profile data useful',\n",
       " 'way slow load waited min update load wifi ended giving bother downloading droid x',\n",
       " 'could really benefit group company function along contact sync',\n",
       " 'need work buggy lacking feature',\n",
       " 'limited see group discussion',\n",
       " 'sync contact addressbook',\n",
       " 'seems like app running much code ui thread causing ui freeze every',\n",
       " 'open freeze trying go initial update htc desire',\n",
       " 'much better next nit pick would like able edit profile',\n",
       " 'never log loading min tried several time even wiping data uninstalled droid',\n",
       " 'brilliant',\n",
       " 'app doesnt remember login',\n",
       " 'work fine lite feature inspire',\n",
       " 'work well extremely lite feature like use group discussion seen access fix please',\n",
       " 'please could add group app would move star least',\n",
       " 'please make possible move app sd',\n",
       " 'application functional try uninstall reinstall',\n",
       " 'add delete connection',\n",
       " 'v cool waiting long',\n",
       " 'great application keeping date',\n",
       " 'every action take way long load worse dial installed reinstalled better droid x',\n",
       " 'look good slow',\n",
       " 'force close time poor app htc wildfire',\n",
       " 'hang login gingerbread htc desire',\n",
       " 'app work wellbut lot functionality expect access group job etc',\n",
       " 'stall connection able access couple time dhd',\n",
       " 'creates ease process help provide timely feedback question member group',\n",
       " 'liked',\n",
       " 'take age login lack feature good beginning',\n",
       " 'slowwwww',\n",
       " 'logging load becomes unresponsive uninstalling droidx running gingerbread',\n",
       " 'bit poor expect better',\n",
       " 'installed fine htc inspire logged fine never ending sync app fail',\n",
       " 'worked exactly first time run crashed ever since unresponsive reinstated perfect mytouch g mobile',\n",
       " 'good interface notification connecting since last upgrade',\n",
       " 'app since beta get better droid',\n",
       " 'application good use access group discussion feature like please please include close application',\n",
       " 'work fine need profile editing would nice grew standalone app need going website key functionality',\n",
       " 'cannot even sign galaxy ace',\n",
       " 'great update sameer kep improving need fancy ui pls',\n",
       " 'character maybe invisible',\n",
       " 'great idea access group group message without seems like fancy phone book access message',\n",
       " 'real slow',\n",
       " 'missing support group',\n",
       " 'password stored phone plane text epic fail otherwise star removed',\n",
       " 'wow great app strong execution',\n",
       " 'htc inspire keep loading anything',\n",
       " 'work great droid x',\n",
       " 'good app',\n",
       " 'good app seems lacking icon access group',\n",
       " 'needed space phone remove install app sd available',\n",
       " 'good app need could app sd card function though',\n",
       " 'ok',\n",
       " 'cannot edit profile minus point',\n",
       " 'looking forward official app good droidin app dissapointing',\n",
       " 'good start long way go uninstalled favour droidin',\n",
       " 'would star need option keep logged',\n",
       " 'good updating status need feature touch g',\n",
       " 'intend use daily kept getting hunged',\n",
       " 'app need major updating profile editing search filtering name would go long way',\n",
       " 'app great love android htc',\n",
       " 'work great',\n",
       " 'ok need sd card support bad',\n",
       " 'really like app would like see group support though',\n",
       " 'slow practical',\n",
       " 'muy grande ser bueno poder moverlo al sdcard lo tenido que quitar be por que ocupo espacio',\n",
       " 'job search',\n",
       " 'view group update suck',\n",
       " 'help respond invite notification almost ability filter update ability remove connection',\n",
       " 'app lack option edit profile',\n",
       " 'need app sd uninstall till',\n",
       " 'need contact integration group',\n",
       " 'sent random invite delete app uninstalling',\n",
       " 'work well desire hd',\n",
       " 'freeze fxxking time',\n",
       " 'like general would even better could see browsed profile linkedin website',\n",
       " 'good app need ability access group page droid x',\n",
       " 'horribly slow took minute load main menu login got tired waiting content page galaxy mb wifi',\n",
       " 'loaded quickly fairly slow wifi connection htc desire hd',\n",
       " 'interact android keyboard motorola xoom android signin app',\n",
       " 'freeze time able get past main page',\n",
       " 'keep crashing htc desire also say internet connection one',\n",
       " 'show spinning wheel nothing button work',\n",
       " 'great droid x',\n",
       " 'change profile app setting control sync interval uninstalling',\n",
       " 'need support multiple account app sd',\n",
       " 'excellent really need app sd',\n",
       " 'loses one star inability edit one page',\n",
       " 'good nice official app finally',\n",
       " 'professionally done',\n",
       " 'feel nice need improvement notification account setting etc released soon think please update asap',\n",
       " 'make x button larger',\n",
       " 'enter id pas time',\n",
       " 'able edit profile app suck',\n",
       " 'able recommend people',\n",
       " 'limited functionality poor interface',\n",
       " 'need group access',\n",
       " 'hang lot force stop clear data app log back work longer',\n",
       " 'work galaxy sits trying receive update crashing internet connection message uninstalled happy',\n",
       " 'obviously listening user let edit profile poor',\n",
       " 'good connectivity lack group pain sometimes though',\n",
       " 'let edit profile',\n",
       " 'slow load much viewing platform take min open easier go straight website htc desire',\n",
       " 'lack group discussion disappointment',\n",
       " 'droid much better',\n",
       " 'changed password register app keep saying password incorrect',\n",
       " 'take way long load know loading home screen take long closed app',\n",
       " 'cant edit profile poor interface v social medium apps',\n",
       " 'suck upto level',\n",
       " 'excellent',\n",
       " 'loggedin try connect several unsuccessful attempt uninstalled also group good droid x',\n",
       " 'see group update',\n",
       " 'load forever even wifi contact developer evo',\n",
       " 'limited app view forum post unistall hell stock go high worth penny piece sh app htc evo',\n",
       " 'mind app though limited another small bug appears website twitter info duplicated profile screen',\n",
       " 'waiting least group support',\n",
       " 'working desire android app freeze startup forced kill',\n",
       " 'cannot load webpage app similar link',\n",
       " 'great tool go samsung fascinate',\n",
       " 'great tool linkedin wish allowed recommendation',\n",
       " 'app badly need widget seems work ok far data uploading downloading quite slow sometimes well',\n",
       " 'freezing app load update extremely slow going back droidin sorry htc evo gingerbread',\n",
       " 'app really slow load often lock phone',\n",
       " 'insta fc uninstall',\n",
       " 'plain work freeze logging',\n",
       " 'work g need setup profile browser galaxy tab',\n",
       " 'work fine htc desire hd handset however application basic weak functionality',\n",
       " 'good application work videocon v functionality edit profile',\n",
       " 'great evo cmod',\n",
       " 'good app ability delete connection requested thanks',\n",
       " 'excellent',\n",
       " 'would perfect could edit profile good app though',\n",
       " 'password stored unencrypted thx uninstall',\n",
       " 'group traffic group storage password clear unforgiveable amateur hour',\n",
       " 'say description',\n",
       " 'basic could really use feature make usable',\n",
       " 'good basic stuff message invite current connection function edit profile data',\n",
       " 'asus transformer text login screen username password field white white foreground color barely brighter background uninstalling plain text password',\n",
       " 'suck even edit profile change basic information',\n",
       " 'work clunky rubbish',\n",
       " 'nicely done',\n",
       " 'indispensable',\n",
       " 'would good app allowed change profile',\n",
       " 'slowest app ever seen open wait literally minute anything happens completely useless',\n",
       " 'way go group group important fixed uninstalled created internet bookmark',\n",
       " 'good idea hang age desire',\n",
       " 'slow',\n",
       " 'ok probably needsmore work home screen auto rotate though content screen link contct status flaky v dell streak',\n",
       " 'need movable sd card also need improvement',\n",
       " 'take forever load evo shift uninstalled',\n",
       " 'need ability edit profile app updated',\n",
       " 'widget use',\n",
       " 'could see better opening website integration could see',\n",
       " 'move sd card place phone',\n",
       " 'see sent msg profile visit etc look like demo version',\n",
       " 'excellent interface would liked option tab manage preference',\n",
       " 'interface nice load really slowly every page dx',\n",
       " 'much slow use',\n",
       " 'way slow load page point access info fly please fix performance app uninstalled',\n",
       " 'slow faster access website',\n",
       " 'respond horrible',\n",
       " 'slow never load',\n",
       " 'place request',\n",
       " 'sync config option drain battery edit profile sync contact address book worthless uninstalled',\n",
       " 'bit slow much droidin seems work better',\n",
       " 'work slow',\n",
       " 'expect atleast option update current profile n skill',\n",
       " 'force close wont let even open',\n",
       " 'need update lot group',\n",
       " 'load damn slow uninstalling desire',\n",
       " 'see group main reason using linkedin',\n",
       " 'even access group let alone comment',\n",
       " 'app sd enabled deinstalled',\n",
       " 'nice app slow',\n",
       " 'really wish could edit profile app c',\n",
       " 'nice looking app get screen besides home one loading slowest app ever used even wifi',\n",
       " 'still way go',\n",
       " 'installed sd card',\n",
       " 'nice app basic cannot access group',\n",
       " 'hang everytime update please fix immediately',\n",
       " 'decent app buggy loses connection lot even g',\n",
       " 'linkedin need listen people want',\n",
       " 'log nothing',\n",
       " 'please update password cannot clear',\n",
       " 'really anything',\n",
       " 'limited update profile app',\n",
       " 'receive error message time try view connection droid x',\n",
       " 'new version broken testing',\n",
       " 'must professional',\n",
       " 'app missing ability monitor manage group missing capability reduces overall usefulness app would taste higher',\n",
       " 'useless w group',\n",
       " 'error every time nexus',\n",
       " 'ok latest update even allow app launch constant crash desire',\n",
       " 'new version asks access contact data thanks want another app importing private data ipo need make',\n",
       " 'nice app miss ability interact group',\n",
       " 'upgrade stopped working try clear old data setting application manage application linkedin clear data work',\n",
       " 'better',\n",
       " 'terribly slow often fails connect result unusable galaxy',\n",
       " 'time',\n",
       " 'group view would useful update',\n",
       " 'work',\n",
       " 'basically sits refreshing age time without letting anything need work look good pretty poor moment',\n",
       " 'absolutelly poor implementation phone go sleep three time anything happens app considering throwing',\n",
       " 'work',\n",
       " 'useable since update htc desire using droidin',\n",
       " 'keep hanging refreshing page htc desire hd',\n",
       " 'work better updating connection',\n",
       " 'constantly closed unable use please verify app using milestone',\n",
       " 'crash allot',\n",
       " 'work great user problem know use phone',\n",
       " 'open since latest update droid x',\n",
       " 'last update killed theapplication',\n",
       " 'update version still crash opening',\n",
       " 'crash burn',\n",
       " 'dead',\n",
       " 'crash desire',\n",
       " 'ok app use occasionally wish contact sync make login username password every time open',\n",
       " 'wont work worked update',\n",
       " 'like',\n",
       " 'used work great since update tired slow moving dog',\n",
       " 'apparently update fix blank screen bug',\n",
       " 'support group important try',\n",
       " 'latest update appears broken samsung',\n",
       " 'need contact syncing last update slow loading',\n",
       " 'keep shutting droid x',\n",
       " 'best',\n",
       " 'load change',\n",
       " 'waited long time linkedin app disappointed',\n",
       " 'slow freeze constantly fire guy work app motorola droid',\n",
       " 'force close',\n",
       " 'slow understatement',\n",
       " 'never worked great crap even load updated time still working',\n",
       " 'half decent even open app since update',\n",
       " 'latest update completely broken',\n",
       " 'awfully limited scope regular site need job hoop jump gone soon gainfully employed',\n",
       " 'use good android take forever load',\n",
       " 'simple interface get job done add horizontal mode main screen golden opinion',\n",
       " 'issue people latest update make unusable sends error report rd grader programming',\n",
       " 'htc desire hd still working update none button work',\n",
       " 'working latest update nexus',\n",
       " 'great keeping replace pc',\n",
       " 'option updating profile neither adding recommendation rate ryt',\n",
       " 'new version much slower startup syncs data disappointing',\n",
       " 'rarely work force close',\n",
       " 'basic good need widget droidin better feature',\n",
       " 'app super buggy xoom honeycomb plus side current version leaf lot room developer make improvement',\n",
       " 'interface need updated',\n",
       " 'update keep crashing app',\n",
       " 'crash update',\n",
       " 'crashed update galaxy gingerbread',\n",
       " 'recent update stopped working uninstall good really',\n",
       " 'since recent update fails load',\n",
       " 'load since last update went decent good two thumb',\n",
       " 'loading galaxy mini',\n",
       " 'open since latest update',\n",
       " 'work fine know fuss try completley uninstalling reinstalling',\n",
       " 'open last upgrade',\n",
       " 'working since update',\n",
       " 'working update',\n",
       " 'crash start htc desire worked well update',\n",
       " 'crash start galaxy',\n",
       " 'even use get fixed keep otherwise bother',\n",
       " 'work ok slow memory hog sd share link apps droidin work better',\n",
       " 'slow better using rd party app shame',\n",
       " 'working update htc wildfire',\n",
       " 'would great could update edit profile app',\n",
       " 'stopped working recent update htc wildfire please look issue fix asap',\n",
       " 'crash since last update mytouch g',\n",
       " 'dead new update',\n",
       " 'working',\n",
       " 'working',\n",
       " 'latest update working samsung epic fix please',\n",
       " 'great app work fine x',\n",
       " 'good application able see group discussion need update',\n",
       " 'latest update working htc hero',\n",
       " 'better honeycomb support required',\n",
       " 'fc desire hd',\n",
       " 'broken last update',\n",
       " 'open since last two update downloaded using sprint htc evo',\n",
       " 'working well please fix',\n",
       " 'heavy app cant sync linked contact andriod like facebook twitter',\n",
       " 'application work latest update using htc desire worked fine',\n",
       " 'working latest update',\n",
       " 'working phone since last update loading icon upper right corner constantly going running droidx',\n",
       " 'since last update anything except see menu tap icon get error completing action',\n",
       " 'good app need group added though full functionality',\n",
       " 'u need update uninstall previous version install version work little slow xperia x',\n",
       " 'completely unresponsive dashboard updating otherwise ok desire',\n",
       " 'updated working keep force closing working ok update',\n",
       " 'keep crashing time updated',\n",
       " 'ok app nothing special',\n",
       " 'work since latest upgrade installed',\n",
       " 'unbelievably slow point sure anything amazed turd',\n",
       " 'linked app simply fantastic star',\n",
       " 'decent work since latest update cannot connect error message',\n",
       " 'last update broke completely',\n",
       " 'professional app poor many front weak support update far wonder company care',\n",
       " 'great like better phone computer use evo g problem app',\n",
       " 'crash time open seems crawl barely manages open update worst professional app',\n",
       " 'take long refresh even wifi unusable',\n",
       " 'recent update toasted app wont work uninstalled',\n",
       " 'latest update connect',\n",
       " 'app great last update made app useless work soner x eclair',\n",
       " 'since last update work galaxy scl',\n",
       " 'update longer invite someone contact app give error message uninstalled twice still work please fix',\n",
       " 'sooooo slow reverted droidin',\n",
       " 'open anymore since last update going back droidin',\n",
       " 'latest version would run thunderbolt clearing cache app worked perfectly fast',\n",
       " 'clear data force stop repaired update',\n",
       " 'slow slow slow refresh cycle never ending seems like basic stuff overly taxing system resource',\n",
       " 'booooo',\n",
       " 'junk',\n",
       " 'app started strong recent app update cause crash every second bad great awhile',\n",
       " 'stopped working last update good really supposed top draw social networking company',\n",
       " 'last update awful always error uninstalling',\n",
       " 'slow un install',\n",
       " 'last update force close promising till',\n",
       " 'slow retrieve data last update even clearing cache',\n",
       " 'new version able load content time present error previous version great though moto defy o v',\n",
       " 'app doesnt work desire hd',\n",
       " 'someone pls fix app',\n",
       " 'used work upgrade fix guy',\n",
       " 'seriously problem freezing slow startup slow refresh bleh',\n",
       " 'worked upgrade disappointed',\n",
       " 'come need another update istalling latest one crashing start every time',\n",
       " 'hang everytime open app nothing uninstalling nexus',\n",
       " 'droidx w gingerbread hang open',\n",
       " 'read news group',\n",
       " 'news nice would rather group',\n",
       " 'handy work great droid x',\n",
       " 'use add people meet conference job work fine mytouch g',\n",
       " 'installed app none button work continues idle nd time installed app work go online',\n",
       " 'working fine til update force crash time desire',\n",
       " 'work pretty good droid sure everyone else much trouble',\n",
       " 'longer work epic g',\n",
       " 'unbelievable slow actually faster internet browser disappointed n uninstalled htc desire',\n",
       " 'slow load anything barely usable galaxy',\n",
       " 'work great thc thunderbolt',\n",
       " 'like tried make user friendly need pull update faster get bored waiting update back sensation',\n",
       " 'working perfectly last update work tried uninstall install avail linkedin developer fix',\n",
       " 'love app help expand world',\n",
       " 'crash every time startup since upgraded samsung intercept',\n",
       " 'useless serf purpose trying twitter instead way update manage profile network',\n",
       " 'worked fine beginning update died droid x',\n",
       " 'update download data crash update missing limited feature ie reply accept view sent msg',\n",
       " 'used work nothing screensaver completely dead droid x',\n",
       " 'application crash motorola milestone sdk version update',\n",
       " 'work samsung galaxy previous version ok though',\n",
       " 'stopped working galaxy tab',\n",
       " 'login',\n",
       " 'rubbish authenticate uninstalled',\n",
       " 'even load correctly samsung vibrant tmobile error every function uninstalling',\n",
       " 'work perfectly',\n",
       " 'load even connected wifi uninstalling',\n",
       " 'pointless enough functionality sign every time use unlike website make using pain uninstalled',\n",
       " 'fine broken big time recently probe login new update crash straight away delete use droidin instead',\n",
       " 'log every time coice suchs group ether',\n",
       " 'update show message connect request frustratingly slow start iphone version far better step team htc desire',\n",
       " 'v slow updating access email update app access group',\n",
       " 'review app linkedin general app slow load point near uselessness delete wait update use',\n",
       " 'either sync painfully slow app broken droid incredible',\n",
       " 'job worthy substitute desktop version',\n",
       " 'work without crashing would like see group group discussion',\n",
       " 'slow',\n",
       " 'keep crashing mt g tmo',\n",
       " 'love htc sensation',\n",
       " 'would nice move app sd card',\n",
       " 'linkedin add group app fast losing people google public availability roll',\n",
       " 'good update',\n",
       " 'crash time keep loading touch action work',\n",
       " 'many mobile site void feature functionality one look forward app app',\n",
       " 'old version nice clean uncomplicated simple new redesign overly busy bloated slow ridiculous animation unwanted news strip',\n",
       " 'much improved previous vers new ui nice still need app sd',\n",
       " 'contact data',\n",
       " 'outstanding ui',\n",
       " 'one rd screen massive header advertising article linkedin used reading article',\n",
       " 'really hate update like old interface better app look cheesy hate ad top well',\n",
       " 'nice',\n",
       " 'well done nice update',\n",
       " 'great new ui sync contact also nice',\n",
       " 'updated linkedin app think great app like new fancy ui',\n",
       " 'new app perfect',\n",
       " 'although contact sync evo include profile pic status update like connectin currently run link',\n",
       " 'waiting new funtionalities great update',\n",
       " 'love new ui glad finally contact integration',\n",
       " 'ver really slow new ui ever confusing disappointed',\n",
       " 'awesome surprise linkedin beyond expectation',\n",
       " 'great new update love',\n",
       " 'feature expect contact integration group update news',\n",
       " 'nice',\n",
       " 'suck',\n",
       " 'please add profile modification option',\n",
       " 'loving updated version swoosh',\n",
       " 'much faster previous version love new interface',\n",
       " 'much nicer previous version',\n",
       " 'new interface nice faster well share update twitter removed apparently',\n",
       " 'added new star recent update would like see app open get email update',\n",
       " 'new look versiom awesome getting better better',\n",
       " 'asking many right trust de installing',\n",
       " 'far lot like linkedin android could use setting option sync update',\n",
       " 'better ordinary resume',\n",
       " 'update offer functionality intuitive refresh slow',\n",
       " 'nice update previous version wonderful',\n",
       " 'business accessing contact want access particular contact fine cannot unfettered control',\n",
       " 'nice update keep getting better',\n",
       " 'like new layout app completely froze phone g happened month owning',\n",
       " 'appears security issue showed somebody else group people may know uninstalled reverted earlier version',\n",
       " 'new update poor effort non intuitive ui want sync contact least asked first clearly clear setting section',\n",
       " 'slooooooooowwwww',\n",
       " 'load',\n",
       " 'log account online app',\n",
       " 'like new format difficult use many click trying news service instead sticking best biz networking',\n",
       " 'new ui step backward',\n",
       " 'love new update interface',\n",
       " 'cluttered poorly designed ui hate',\n",
       " 'well glad see group finally included however notification see figure would set preference notification useless notification cleared going continue using droidin',\n",
       " 'update much closer site',\n",
       " 'update amazing interface fantastic thanks',\n",
       " 'force close everytime htc hero sprint',\n",
       " 'new update game changer longer need install alternative linkedin',\n",
       " 'repeatedly get force close error message even even using app annoying droid x',\n",
       " 'wow quickly browsed app totally impressed new usability quick info access',\n",
       " 'brilliant improvement waiting see next update',\n",
       " 'apps sd uninstalled till added',\n",
       " 'okay',\n",
       " 'new linkedin app fabulous full functionality including group initial app shockingly bad th enew improved app meet high expectation',\n",
       " 'simply fantastic update',\n",
       " 'awesome app something really see using super nice job',\n",
       " 'new version go beyond sign page phone state identity permission granted rooted phone',\n",
       " 'excellent',\n",
       " 'really need widget profile editing option also sad',\n",
       " 'excellent update contact sync much needed feature',\n",
       " 'version work great evo g',\n",
       " 'app store market place go tell update click update one service recognized wad updated fight back',\n",
       " 'esssyons thanks well wish support r jim',\n",
       " 'latest update suck earlier version stick',\n",
       " 'update hang linkedin available',\n",
       " 'much better love version app previous version unusable one must',\n",
       " 'wish way switch different linkedin account',\n",
       " 'version nice update',\n",
       " 'new version alot better',\n",
       " 'slow need app sd',\n",
       " 'great',\n",
       " 'sleek ui',\n",
       " 'contact sync star must',\n",
       " 'love new interface easy navigate real joy use',\n",
       " 'nice new interface need ability edit profile also movable sd star',\n",
       " 'update great new version finally access group',\n",
       " 'would like ability edit profile',\n",
       " 'new version good',\n",
       " 'successful posting new group discussion',\n",
       " 'good',\n",
       " 'latest version great seems like real social network finally even includes relevant news story',\n",
       " 'working fine rebooting phone slick',\n",
       " 'sd',\n",
       " 'great updatr',\n",
       " 'pls add feature sent option would nice also add frequency update notification',\n",
       " 'getting better keep upgrading',\n",
       " 'nice interface overall performance better',\n",
       " 'need facility move sd',\n",
       " 'really impressive',\n",
       " 'avoid version everything good ruined',\n",
       " 'much faster',\n",
       " 'would give star could update profile please add',\n",
       " 'much better app layout change',\n",
       " 'good style new version',\n",
       " 'like ui etc draining battery installing',\n",
       " 'new linkedin app really nice congrats',\n",
       " 'great update want use app keep updated love update little thing ui',\n",
       " 'would give star could update profile still much better last version',\n",
       " 'even log update',\n",
       " 'new update doesnt menu pending invitation previous version better new one sorry need simple user interface',\n",
       " 'great effort rewriting focus adding feature web version give u',\n",
       " 'good app need save login information would also like allow editing profile',\n",
       " 'work updating',\n",
       " 'normally would give app least star since update working endless loading cycle select connection',\n",
       " 'funutation like',\n",
       " 'good program rewrite excellent work great htc desire',\n",
       " 'actually use linked',\n",
       " 'viewed profile',\n",
       " 'would need modify secure setting delete application data downloading',\n",
       " 'app may nice like fact asks permission change system setting want access phonebook uninstalled',\n",
       " 'asks permission phone book either find linkedin contact phone add contact',\n",
       " 'happened option posting twitter acct ui nice though',\n",
       " 'app gud bt need feature notification whn v gt msg contact',\n",
       " 'good',\n",
       " 'update new interface stopped synching htc sensation log update uninstalling',\n",
       " 'excellent',\n",
       " 'awesome update keep',\n",
       " 'excellent',\n",
       " 'fan new ui',\n",
       " 'latest release application beautiful smooth fast easy navigate also feature rich highly useful',\n",
       " 'take great idea douche',\n",
       " 'app sudden need know phone state identity along call tired privacy trade period',\n",
       " 'want merge linkedin contact phone want access phone contact update give choice',\n",
       " 'much much improved need screen go back button view news reader need improvement cap number item htc tattoo cm',\n",
       " 'nice app work great',\n",
       " 'set sync contact locked contact edited phone logged contact gone one put phone',\n",
       " 'fan',\n",
       " 'found double linkedin contact upon updating rather updating existing contact app creates linkedin specific contact case contact find app otherwise fantastic great ui easily information easily accesible',\n",
       " 'space key keyboard working hope sorted soon htc dhd',\n",
       " 'much harder get around old system upgrade yet',\n",
       " 'new update render app useless pas app check thing computer browser',\n",
       " 'bad slow compared website',\n",
       " 'please remove make contact sync configurable uninstalled',\n",
       " 'version great application compared earlier version many new feature better interface',\n",
       " 'sad recent ui poor earlier must rolled back',\n",
       " 'previous version app great v huge step back every possible way rollback would welcome',\n",
       " 'poor roll back first version please',\n",
       " 'sorry old interface much better',\n",
       " 'updated application wish user friendly visually appealing',\n",
       " 'however contact sync sync photo still great really use main app',\n",
       " 'awsum',\n",
       " 'great app',\n",
       " 'great app',\n",
       " 'great new ui',\n",
       " 'would app need permission delete app data change secure system setting uninstalling',\n",
       " 'would star way edit profile upload picture',\n",
       " 'plse provide move sd capability',\n",
       " 'please add group function',\n",
       " 'messed contact list merged linkedin contact many contact listed time deleted phone deleted gmail',\n",
       " 'attempting access contact app hang loading working',\n",
       " 'latest update made five star app',\n",
       " 'many comment like new version old version much simpler new one cluttered',\n",
       " 'new version let send invitation buggy hope fix soon',\n",
       " 'sing version',\n",
       " 'liked old version better new one messy useful',\n",
       " 'good enough',\n",
       " 'give access account move app sd take much space',\n",
       " 'force close every time attempt open uninstall samsung galaxy',\n",
       " 'old version looked lot better new one cluttered',\n",
       " 'new version let send invitation contact useful',\n",
       " 'want connect professional need app help job find',\n",
       " 'backwards step new interface cluttered news bar irritating',\n",
       " 'insists log detail incorrect frustrating',\n",
       " 'backward step new user interface keep simple',\n",
       " 'come guy better',\n",
       " 'large file size mb move sd card shame really uninstall',\n",
       " 'old interface fine confusing cluttered le intuitive disappointed',\n",
       " 'new version super',\n",
       " 'keep giving error message unavailable try back later day tried deleting reinstalled still working right htc evo',\n",
       " 'work',\n",
       " 'able add people find using app',\n",
       " 'like new ui also need able thing like edit profile',\n",
       " 'work installed open anything',\n",
       " 'htc desire hd say loading log service unavailable shocked work since linkedin',\n",
       " 'much slow take lot time load',\n",
       " 'finish loading data',\n",
       " 'latest update great better official social network apps',\n",
       " 'application ok missing possibility move sd card taking much memory uninstalled',\n",
       " 'retardedly tedious log app uninstalled',\n",
       " 'suck',\n",
       " 'much better previous version mobile phone version app finally read discussion group',\n",
       " 'new layout horrible bring back old app',\n",
       " 'worse old one',\n",
       " 'hate new update layout hard look find thing loved old version',\n",
       " 'awesome app',\n",
       " 'feel much nicer break tradition social app look like',\n",
       " 'think discussion group several work needed group support otherwise nice',\n",
       " 'new release far better old version faster better ui feature missing push notification real sharing',\n",
       " 'need ui attractive',\n",
       " 'good job',\n",
       " 'ok app need transferable sd card storage',\n",
       " 'yikes talk losing focus target audience new layout belongs dodgy dating site',\n",
       " 'quick easy use great app',\n",
       " 'still quite slow flaky galaxy much improved yet clumsy ui keep getting unintended tap ap freeze regularly extended period',\n",
       " 'trust going uninstall reason',\n",
       " 'really get linked friend haha get linked lol',\n",
       " 'lack make social networking apps android great',\n",
       " 'really disappointed new version seems focused news linkedin app consistently freeze captivate',\n",
       " 'one best looking well designed apps market clean nice ui']"
      ]
     },
     "execution_count": 304,
     "metadata": {},
     "output_type": "execute_result"
    }
   ],
   "source": [
    "import re\n",
    "corpus=[]\n",
    "stemmer=PorterStemmer()\n",
    "# Preprocess each review\n",
    "for review in df['Review']:\n",
    "    # Remove non-alphabetic characters and convert to lowercase\n",
    "    review = re.sub('[^a-zA-Z]', ' ', review)#remove all characters except alphabets\n",
    "    review = review.lower().split()#convert to lowercase and split into words\n",
    "    \n",
    "    # Apply stemming and remove stopwords\n",
    "    review = [lemmatizer.lemmatize(word) for word in review if word not in stopwords.words('english')]#remove stopwords and apply lemmatization\n",
    "    \n",
    "    # Join the processed words back into a string\n",
    "    review = ' '.join(review)\n",
    "    \n",
    "    # Append the processed review to the corpus\n",
    "    corpus.append(review)\n",
    "corpus"
   ]
  },
  {
   "cell_type": "markdown",
   "metadata": {},
   "source": [
    "### Creating  bag of words"
   ]
  },
  {
   "cell_type": "code",
   "execution_count": 305,
   "metadata": {},
   "outputs": [],
   "source": [
    "def label_sentiment(rating):\n",
    "    if rating >= 3:\n",
    "        return 'Positive'\n",
    "    else:\n",
    "        return 'Negative'\n",
    "df['Sentiment'] = df['Rating'].apply(label_sentiment)"
   ]
  },
  {
   "cell_type": "code",
   "execution_count": 306,
   "metadata": {},
   "outputs": [
    {
     "data": {
      "text/html": [
       "<div>\n",
       "<style scoped>\n",
       "    .dataframe tbody tr th:only-of-type {\n",
       "        vertical-align: middle;\n",
       "    }\n",
       "\n",
       "    .dataframe tbody tr th {\n",
       "        vertical-align: top;\n",
       "    }\n",
       "\n",
       "    .dataframe thead th {\n",
       "        text-align: right;\n",
       "    }\n",
       "</style>\n",
       "<table border=\"1\" class=\"dataframe\">\n",
       "  <thead>\n",
       "    <tr style=\"text-align: right;\">\n",
       "      <th></th>\n",
       "      <th>Review</th>\n",
       "      <th>Rating</th>\n",
       "      <th>Length</th>\n",
       "      <th>Sentiment</th>\n",
       "    </tr>\n",
       "  </thead>\n",
       "  <tbody>\n",
       "    <tr>\n",
       "      <th>0</th>\n",
       "      <td>Does absolutely nothing for a LinkedIn beginne...</td>\n",
       "      <td>1</td>\n",
       "      <td>80</td>\n",
       "      <td>Negative</td>\n",
       "    </tr>\n",
       "    <tr>\n",
       "      <th>1</th>\n",
       "      <td>Force close(galaxy tab)</td>\n",
       "      <td>1</td>\n",
       "      <td>23</td>\n",
       "      <td>Negative</td>\n",
       "    </tr>\n",
       "    <tr>\n",
       "      <th>2</th>\n",
       "      <td>Slow and it tries to upload your contacts with...</td>\n",
       "      <td>1</td>\n",
       "      <td>61</td>\n",
       "      <td>Negative</td>\n",
       "    </tr>\n",
       "    <tr>\n",
       "      <th>3</th>\n",
       "      <td>Add ability to customize the profile and move ...</td>\n",
       "      <td>4</td>\n",
       "      <td>90</td>\n",
       "      <td>Positive</td>\n",
       "    </tr>\n",
       "    <tr>\n",
       "      <th>4</th>\n",
       "      <td>Good app, but it's a pain that it's not possib...</td>\n",
       "      <td>4</td>\n",
       "      <td>133</td>\n",
       "      <td>Positive</td>\n",
       "    </tr>\n",
       "  </tbody>\n",
       "</table>\n",
       "</div>"
      ],
      "text/plain": [
       "                                              Review  Rating  Length Sentiment\n",
       "0  Does absolutely nothing for a LinkedIn beginne...       1      80  Negative\n",
       "1                            Force close(galaxy tab)       1      23  Negative\n",
       "2  Slow and it tries to upload your contacts with...       1      61  Negative\n",
       "3  Add ability to customize the profile and move ...       4      90  Positive\n",
       "4  Good app, but it's a pain that it's not possib...       4     133  Positive"
      ]
     },
     "execution_count": 306,
     "metadata": {},
     "output_type": "execute_result"
    }
   ],
   "source": [
    "df.head()"
   ]
  },
  {
   "cell_type": "code",
   "execution_count": 307,
   "metadata": {},
   "outputs": [
    {
     "data": {
      "text/html": [
       "<div>\n",
       "<style scoped>\n",
       "    .dataframe tbody tr th:only-of-type {\n",
       "        vertical-align: middle;\n",
       "    }\n",
       "\n",
       "    .dataframe tbody tr th {\n",
       "        vertical-align: top;\n",
       "    }\n",
       "\n",
       "    .dataframe thead th {\n",
       "        text-align: right;\n",
       "    }\n",
       "</style>\n",
       "<table border=\"1\" class=\"dataframe\">\n",
       "  <thead>\n",
       "    <tr style=\"text-align: right;\">\n",
       "      <th></th>\n",
       "      <th>Review</th>\n",
       "      <th>Rating</th>\n",
       "      <th>Length</th>\n",
       "      <th>Sentiment</th>\n",
       "    </tr>\n",
       "  </thead>\n",
       "  <tbody>\n",
       "    <tr>\n",
       "      <th>0</th>\n",
       "      <td>Does absolutely nothing for a LinkedIn beginne...</td>\n",
       "      <td>1</td>\n",
       "      <td>80</td>\n",
       "      <td>0</td>\n",
       "    </tr>\n",
       "    <tr>\n",
       "      <th>1</th>\n",
       "      <td>Force close(galaxy tab)</td>\n",
       "      <td>1</td>\n",
       "      <td>23</td>\n",
       "      <td>0</td>\n",
       "    </tr>\n",
       "    <tr>\n",
       "      <th>2</th>\n",
       "      <td>Slow and it tries to upload your contacts with...</td>\n",
       "      <td>1</td>\n",
       "      <td>61</td>\n",
       "      <td>0</td>\n",
       "    </tr>\n",
       "    <tr>\n",
       "      <th>3</th>\n",
       "      <td>Add ability to customize the profile and move ...</td>\n",
       "      <td>4</td>\n",
       "      <td>90</td>\n",
       "      <td>1</td>\n",
       "    </tr>\n",
       "    <tr>\n",
       "      <th>4</th>\n",
       "      <td>Good app, but it's a pain that it's not possib...</td>\n",
       "      <td>4</td>\n",
       "      <td>133</td>\n",
       "      <td>1</td>\n",
       "    </tr>\n",
       "    <tr>\n",
       "      <th>...</th>\n",
       "      <td>...</td>\n",
       "      <td>...</td>\n",
       "      <td>...</td>\n",
       "      <td>...</td>\n",
       "    </tr>\n",
       "    <tr>\n",
       "      <th>697</th>\n",
       "      <td>Can't trust, Going to uninstall just for that ...</td>\n",
       "      <td>1</td>\n",
       "      <td>53</td>\n",
       "      <td>0</td>\n",
       "    </tr>\n",
       "    <tr>\n",
       "      <th>698</th>\n",
       "      <td>It really gets me linked in with my friends. H...</td>\n",
       "      <td>5</td>\n",
       "      <td>72</td>\n",
       "      <td>1</td>\n",
       "    </tr>\n",
       "    <tr>\n",
       "      <th>699</th>\n",
       "      <td>It lacks most of what makes the other social n...</td>\n",
       "      <td>4</td>\n",
       "      <td>81</td>\n",
       "      <td>1</td>\n",
       "    </tr>\n",
       "    <tr>\n",
       "      <th>700</th>\n",
       "      <td>Really disappointed in the new version. Seems ...</td>\n",
       "      <td>2</td>\n",
       "      <td>123</td>\n",
       "      <td>0</td>\n",
       "    </tr>\n",
       "    <tr>\n",
       "      <th>701</th>\n",
       "      <td>One of the best looking and well designed apps...</td>\n",
       "      <td>5</td>\n",
       "      <td>80</td>\n",
       "      <td>1</td>\n",
       "    </tr>\n",
       "  </tbody>\n",
       "</table>\n",
       "<p>702 rows × 4 columns</p>\n",
       "</div>"
      ],
      "text/plain": [
       "                                                Review  Rating  Length  \\\n",
       "0    Does absolutely nothing for a LinkedIn beginne...       1      80   \n",
       "1                              Force close(galaxy tab)       1      23   \n",
       "2    Slow and it tries to upload your contacts with...       1      61   \n",
       "3    Add ability to customize the profile and move ...       4      90   \n",
       "4    Good app, but it's a pain that it's not possib...       4     133   \n",
       "..                                                 ...     ...     ...   \n",
       "697  Can't trust, Going to uninstall just for that ...       1      53   \n",
       "698  It really gets me linked in with my friends. H...       5      72   \n",
       "699  It lacks most of what makes the other social n...       4      81   \n",
       "700  Really disappointed in the new version. Seems ...       2     123   \n",
       "701  One of the best looking and well designed apps...       5      80   \n",
       "\n",
       "     Sentiment  \n",
       "0            0  \n",
       "1            0  \n",
       "2            0  \n",
       "3            1  \n",
       "4            1  \n",
       "..         ...  \n",
       "697          0  \n",
       "698          1  \n",
       "699          1  \n",
       "700          0  \n",
       "701          1  \n",
       "\n",
       "[702 rows x 4 columns]"
      ]
     },
     "execution_count": 307,
     "metadata": {},
     "output_type": "execute_result"
    }
   ],
   "source": [
    "df['Sentiment'] = df['Sentiment'].map({'Positive': 1, 'Negative': 0})\n",
    "df"
   ]
  },
  {
   "cell_type": "code",
   "execution_count": 308,
   "metadata": {},
   "outputs": [],
   "source": [
    "tfidf = TfidfVectorizer()\n",
    "\n",
    "# Fit and transform the corpus to get the TF-IDF representation\n",
    "X = tfidf.fit_transform(corpus).toarray()\n",
    "y=df['Sentiment']"
   ]
  },
  {
   "cell_type": "code",
   "execution_count": 309,
   "metadata": {},
   "outputs": [
    {
     "name": "stdout",
     "output_type": "stream",
     "text": [
      "(702, 1164)\n",
      "(702,)\n"
     ]
    }
   ],
   "source": [
    "print(X.shape)\n",
    "print(y.shape)"
   ]
  },
  {
   "cell_type": "code",
   "execution_count": 310,
   "metadata": {},
   "outputs": [
    {
     "data": {
      "text/plain": [
       "array([[0., 0., 0., ..., 0., 0., 0.],\n",
       "       [0., 0., 0., ..., 0., 0., 0.],\n",
       "       [0., 0., 0., ..., 0., 0., 0.],\n",
       "       ...,\n",
       "       [0., 0., 0., ..., 0., 0., 0.],\n",
       "       [0., 0., 0., ..., 0., 0., 0.],\n",
       "       [0., 0., 0., ..., 0., 0., 0.]])"
      ]
     },
     "execution_count": 310,
     "metadata": {},
     "output_type": "execute_result"
    }
   ],
   "source": [
    "X"
   ]
  },
  {
   "cell_type": "code",
   "execution_count": 311,
   "metadata": {},
   "outputs": [],
   "source": [
    "X_train, X_test, y_train, y_test = train_test_split(X, y, test_size=0.2, random_state=42)"
   ]
  },
  {
   "cell_type": "code",
   "execution_count": 312,
   "metadata": {},
   "outputs": [
    {
     "data": {
      "text/plain": [
       "array([[0., 0., 0., ..., 0., 0., 0.],\n",
       "       [0., 0., 0., ..., 0., 0., 0.],\n",
       "       [0., 0., 0., ..., 0., 0., 0.],\n",
       "       ...,\n",
       "       [0., 0., 0., ..., 0., 0., 0.],\n",
       "       [0., 0., 0., ..., 0., 0., 0.],\n",
       "       [0., 0., 0., ..., 0., 0., 0.]])"
      ]
     },
     "execution_count": 312,
     "metadata": {},
     "output_type": "execute_result"
    }
   ],
   "source": [
    "X_test"
   ]
  },
  {
   "cell_type": "code",
   "execution_count": 313,
   "metadata": {},
   "outputs": [
    {
     "data": {
      "text/plain": [
       "'classifiers = {\\n    \\'LogisticRegression\\': LogisticRegression(random_state=40, max_iter=10000),\\n    \\'RandomForest\\': RandomForestClassifier(random_state=40),\\n    \\'DecisionTree\\': DecisionTreeClassifier(random_state=40),\\n    \\'GradientBoosting\\': GradientBoostingClassifier(random_state=40),\\n    \\'SVM\\': SVC(random_state=40)\\n}\\n\\n# Define parameter grids with simpler configurations\\nparam_grids = {\\n    \\'LogisticRegression\\': {\\n        \\'C\\': [0.1, 1],\\n        \\'penalty\\': [\\'l2\\'],  # Use only L2 regularization for simplicity\\n        \\'solver\\': [\\'liblinear\\']\\n    },\\n    \\'RandomForest\\': {\\n        \\'n_estimators\\': [100],\\n        \\'max_depth\\': [None, 10],  # Simplified max_depth parameter\\n        \\'min_samples_split\\': [2, 5]\\n    },\\n    \\'DecisionTree\\': {\\n        \\'max_depth\\': [None, 10],  # Simplified max_depth parameter\\n        \\'min_samples_split\\': [2, 5]\\n    },\\n    \\'GradientBoosting\\': {\\n        \\'n_estimators\\': [100],\\n        \\'learning_rate\\': [0.1],  # Simplified learning_rate parameter\\n        \\'max_depth\\': [3, 5]  # Simplified max_depth parameter\\n    },\\n    \\'SVM\\': {\\n        \\'C\\': [0.01, 1],\\n        \\'kernel\\': [\\'linear\\', \\'rbf\\']  # Simplified kernel parameter\\n    }\\n}\\n\\n# Perform grid search and evaluate models\\nbest_estimators = {}\\nfor name, classifier in classifiers.items():\\n    print(f\"Performing Grid Search for {name}\")\\n    grid_search = GridSearchCV(\\n        estimator=classifier,\\n        param_grid=param_grids[name],\\n        cv=3,       # Number of cross-validation folds\\n        n_jobs=-1,\\n        verbose=1\\n    )\\n    grid_search.fit(X_train, y_train)\\n    \\n    best_estimators[name] = grid_search.best_estimator_\\n    \\n    print(f\"Best parameters for {name}: {grid_search.best_params_}\")\\n    print(f\"Best score for {name}: {grid_search.best_score_}\\n\")\\n\\n    # Evaluate the best model on training and test data\\n    train_accuracy = accuracy_score(y_train, grid_search.best_estimator_.predict(X_train))\\n    test_accuracy = accuracy_score(y_test, grid_search.best_estimator_.predict(X_test))\\n    \\n    print(f\"Train accuracy of best {name}: {train_accuracy:.2f}\")\\n    print(f\"Test accuracy of best {name}: {test_accuracy:.2f}\\n\")'"
      ]
     },
     "execution_count": 313,
     "metadata": {},
     "output_type": "execute_result"
    }
   ],
   "source": [
    "\"\"\"classifiers = {\n",
    "    'LogisticRegression': LogisticRegression(random_state=40, max_iter=10000),\n",
    "    'RandomForest': RandomForestClassifier(random_state=40),\n",
    "    'DecisionTree': DecisionTreeClassifier(random_state=40),\n",
    "    'GradientBoosting': GradientBoostingClassifier(random_state=40),\n",
    "    'SVM': SVC(random_state=40)\n",
    "}\n",
    "\n",
    "# Define parameter grids with simpler configurations\n",
    "param_grids = {\n",
    "    'LogisticRegression': {\n",
    "        'C': [0.1, 1],\n",
    "        'penalty': ['l2'],  # Use only L2 regularization for simplicity\n",
    "        'solver': ['liblinear']\n",
    "    },\n",
    "    'RandomForest': {\n",
    "        'n_estimators': [100],\n",
    "        'max_depth': [None, 10],  # Simplified max_depth parameter\n",
    "        'min_samples_split': [2, 5]\n",
    "    },\n",
    "    'DecisionTree': {\n",
    "        'max_depth': [None, 10],  # Simplified max_depth parameter\n",
    "        'min_samples_split': [2, 5]\n",
    "    },\n",
    "    'GradientBoosting': {\n",
    "        'n_estimators': [100],\n",
    "        'learning_rate': [0.1],  # Simplified learning_rate parameter\n",
    "        'max_depth': [3, 5]  # Simplified max_depth parameter\n",
    "    },\n",
    "    'SVM': {\n",
    "        'C': [0.01, 1],\n",
    "        'kernel': ['linear', 'rbf']  # Simplified kernel parameter\n",
    "    }\n",
    "}\n",
    "\n",
    "# Perform grid search and evaluate models\n",
    "best_estimators = {}\n",
    "for name, classifier in classifiers.items():\n",
    "    print(f\"Performing Grid Search for {name}\")\n",
    "    grid_search = GridSearchCV(\n",
    "        estimator=classifier,\n",
    "        param_grid=param_grids[name],\n",
    "        cv=3,       # Number of cross-validation folds\n",
    "        n_jobs=-1,\n",
    "        verbose=1\n",
    "    )\n",
    "    grid_search.fit(X_train, y_train)\n",
    "    \n",
    "    best_estimators[name] = grid_search.best_estimator_\n",
    "    \n",
    "    print(f\"Best parameters for {name}: {grid_search.best_params_}\")\n",
    "    print(f\"Best score for {name}: {grid_search.best_score_}\\n\")\n",
    "\n",
    "    # Evaluate the best model on training and test data\n",
    "    train_accuracy = accuracy_score(y_train, grid_search.best_estimator_.predict(X_train))\n",
    "    test_accuracy = accuracy_score(y_test, grid_search.best_estimator_.predict(X_test))\n",
    "    \n",
    "    print(f\"Train accuracy of best {name}: {train_accuracy:.2f}\")\n",
    "    print(f\"Test accuracy of best {name}: {test_accuracy:.2f}\\n\")\"\"\""
   ]
  },
  {
   "cell_type": "code",
   "execution_count": 314,
   "metadata": {},
   "outputs": [
    {
     "name": "stdout",
     "output_type": "stream",
     "text": [
      "train_accuracy: 0.9162210338680927\n",
      "test_accuracy: 0.7730496453900709\n"
     ]
    }
   ],
   "source": [
    "lr=LogisticRegression()\n",
    "lr.fit(X_train,y_train)\n",
    "y_pred=lr.predict(X_test)\n",
    "print('train_accuracy:',accuracy_score(y_train,lr.predict(X_train)))\n",
    "print('test_accuracy:',accuracy_score(y_test,y_pred))"
   ]
  },
  {
   "cell_type": "code",
   "execution_count": 315,
   "metadata": {},
   "outputs": [
    {
     "name": "stdout",
     "output_type": "stream",
     "text": [
      "train_accuracy 0.9001782531194296\n",
      "test_accuracy 0.7801418439716312\n"
     ]
    }
   ],
   "source": [
    "svc=SVC(C=1, kernel='sigmoid', random_state=40)\n",
    "svc.fit(X_train,y_train)\n",
    "y_pred=svc.predict(X_test)\n",
    "print('train_accuracy',accuracy_score(y_train,svc.predict(X_train)))\n",
    "print('test_accuracy',accuracy_score(y_test,y_pred))"
   ]
  },
  {
   "cell_type": "code",
   "execution_count": 316,
   "metadata": {},
   "outputs": [
    {
     "name": "stdout",
     "output_type": "stream",
     "text": [
      "train_accuracy 0.7611408199643493\n",
      "test_accuracy 0.6737588652482269\n"
     ]
    }
   ],
   "source": [
    "dt=DecisionTreeClassifier(max_depth=10, min_samples_split=2, random_state=40 , criterion='gini')\n",
    "dt.fit(X_train,y_train)\n",
    "y_pred=dt.predict(X_test)\n",
    "print('train_accuracy',accuracy_score(y_train,dt.predict(X_train)))\n",
    "print('test_accuracy',accuracy_score(y_test,y_pred))"
   ]
  },
  {
   "cell_type": "code",
   "execution_count": 317,
   "metadata": {},
   "outputs": [
    {
     "name": "stdout",
     "output_type": "stream",
     "text": [
      "train_accuracy 0.8591800356506238\n",
      "test_accuracy 0.7659574468085106\n"
     ]
    }
   ],
   "source": [
    "rf=RandomForestClassifier(max_depth=20, min_samples_split=2, n_estimators=200,max_features=30,min_samples_leaf=2)\n",
    "rf.fit(X_train,y_train)\n",
    "y_pred=rf.predict(X_test)\n",
    "print('train_accuracy',accuracy_score(y_train,rf.predict(X_train)))\n",
    "print('test_accuracy',accuracy_score(y_test,y_pred))"
   ]
  },
  {
   "cell_type": "code",
   "execution_count": 318,
   "metadata": {},
   "outputs": [
    {
     "name": "stdout",
     "output_type": "stream",
     "text": [
      "train_accuracy 0.9518716577540107\n",
      "test_accuracy 0.8368794326241135\n"
     ]
    }
   ],
   "source": [
    "from sklearn.naive_bayes import MultinomialNB\n",
    "mnb=MultinomialNB(alpha=0.1)\n",
    "mnb.fit(X_train,y_train)\n",
    "y_pred=mnb.predict(X_test)\n",
    "print('train_accuracy',accuracy_score(y_train,mnb.predict(X_train)))\n",
    "print('test_accuracy',accuracy_score(y_test,y_pred))"
   ]
  },
  {
   "cell_type": "markdown",
   "metadata": {},
   "source": [
    "### multinomial naive bayes performs best on the given dataset "
   ]
  },
  {
   "cell_type": "code",
   "execution_count": 319,
   "metadata": {},
   "outputs": [
    {
     "data": {
      "text/plain": [
       "['model_and_tfidf.joblib']"
      ]
     },
     "execution_count": 319,
     "metadata": {},
     "output_type": "execute_result"
    }
   ],
   "source": [
    "from joblib import dump\n",
    "dump((mnb, tfidf), 'model_and_tfidf.joblib')"
   ]
  },
  {
   "cell_type": "code",
   "execution_count": 320,
   "metadata": {},
   "outputs": [],
   "source": [
    "def preprocess_text(text):\n",
    "    text = re.sub(r'<.*?>', '', text)  # Remove HTML tags if any\n",
    "    text = re.sub(r'[^a-zA-Z]', ' ', text)  # Remove non-alphabetic characters\n",
    "    text = text.lower()  # Convert to lowercase\n",
    "    tokens = text.split()  # Split the text into words\n",
    "    tokens = [lemmatizer.lemmatize(word) for word in tokens if word not in stopwords.words('english')]\n",
    "    return ' '.join(tokens)\n",
    "\n",
    "def predict_sentiment(comment):\n",
    "    # Preprocess the comment\n",
    "    preprocessed_comment = preprocess_text(comment)\n",
    "    \n",
    "    # Transform the preprocessed comment using tfidf vectorizer\n",
    "    tfidf_vector = tfidf.transform([preprocessed_comment]).toarray()\n",
    "    \n",
    "    # Predict the sentiment using the classifier\n",
    "    predicted_numerical_sentiment = rf.predict(tfidf_vector)[0]  # Assuming clf.predict returns a single prediction\n",
    "    if predicted_numerical_sentiment == 0:\n",
    "        predicted_sentiment = 'negative'\n",
    "    else:\n",
    "        predicted_sentiment = 'positive'\n",
    "    return predicted_sentiment"
   ]
  },
  {
   "cell_type": "code",
   "execution_count": 321,
   "metadata": {},
   "outputs": [
    {
     "name": "stdout",
     "output_type": "stream",
     "text": [
      "Predicted sentiment for the comment 'i dont love using linkedin': negative\n"
     ]
    }
   ],
   "source": [
    "# Example usage:\n",
    "comment = \"i dont love using linkedin\"\n",
    "predicted_sentiment = predict_sentiment(comment)\n",
    "print(f\"Predicted sentiment for the comment '{comment}': {predicted_sentiment}\")\n"
   ]
  },
  {
   "cell_type": "code",
   "execution_count": 322,
   "metadata": {},
   "outputs": [
    {
     "data": {
      "text/plain": [
       "\"from tensorflow.keras.layers import Embedding\\n\\n\\n\\n# Set maximum sequence length\\nmaxlen = 5\\n\\n# Pad sequences to ensure uniform length\\nX_train = pad_sequences(X_train, maxlen=maxlen)\\nX_test = pad_sequences(X_test, maxlen=maxlen)\\n\\n# Model parameters\\nvocab_size = 1500\\nembedding_dim = 500\\n\\n# Build the model\\nmodel = Sequential()\\nmodel.add(Embedding(input_dim=vocab_size, output_dim=embedding_dim))\\nmodel.add(SimpleRNN(64, activation='relu'))  # First Dense layer\\nmodel.add(Dropout(0.2))  # Dropout layer to prevent overfitting\\nmodel.add(Dense(32, activation='relu'))  # Second Dense layer\\nmodel.add(Dropout(0.2))  # Dropout layer to prevent overfitting\\nmodel.add(Dense(1, activation='sigmoid'))  # Output layer for binary classification\\n# Compile the model\\nmodel.compile(optimizer='adam', loss='binary_crossentropy', metrics=['accuracy'])\\n\\n# Print model summary\\nmodel.summary()\\n\\n# Train the model\\nhistory = model.fit(X_train, y_train, epochs=100, batch_size=32, validation_split=0.2)\\n\\n# Evaluate the model\\ntest_loss, test_acc = model.evaluate(X_test, y_test)\\nprint(f'Test Accuracy: {test_acc:.4f}')\\n\""
      ]
     },
     "execution_count": 322,
     "metadata": {},
     "output_type": "execute_result"
    }
   ],
   "source": [
    "\"\"\"from tensorflow.keras.layers import Embedding\n",
    "\n",
    "\n",
    "\n",
    "# Set maximum sequence length\n",
    "maxlen = 5\n",
    "\n",
    "# Pad sequences to ensure uniform length\n",
    "X_train = pad_sequences(X_train, maxlen=maxlen)\n",
    "X_test = pad_sequences(X_test, maxlen=maxlen)\n",
    "\n",
    "# Model parameters\n",
    "vocab_size = 1500\n",
    "embedding_dim = 500\n",
    "\n",
    "# Build the model\n",
    "model = Sequential()\n",
    "model.add(Embedding(input_dim=vocab_size, output_dim=embedding_dim))\n",
    "model.add(SimpleRNN(64, activation='relu'))  # First Dense layer\n",
    "model.add(Dropout(0.2))  # Dropout layer to prevent overfitting\n",
    "model.add(Dense(32, activation='relu'))  # Second Dense layer\n",
    "model.add(Dropout(0.2))  # Dropout layer to prevent overfitting\n",
    "model.add(Dense(1, activation='sigmoid'))  # Output layer for binary classification\n",
    "# Compile the model\n",
    "model.compile(optimizer='adam', loss='binary_crossentropy', metrics=['accuracy'])\n",
    "\n",
    "# Print model summary\n",
    "model.summary()\n",
    "\n",
    "# Train the model\n",
    "history = model.fit(X_train, y_train, epochs=100, batch_size=32, validation_split=0.2)\n",
    "\n",
    "# Evaluate the model\n",
    "test_loss, test_acc = model.evaluate(X_test, y_test)\n",
    "print(f'Test Accuracy: {test_acc:.4f}')\n",
    "\"\"\""
   ]
  },
  {
   "cell_type": "code",
   "execution_count": null,
   "metadata": {},
   "outputs": [],
   "source": []
  }
 ],
 "metadata": {
  "kernelspec": {
   "display_name": "Python 3",
   "language": "python",
   "name": "python3"
  },
  "language_info": {
   "codemirror_mode": {
    "name": "ipython",
    "version": 3
   },
   "file_extension": ".py",
   "mimetype": "text/x-python",
   "name": "python",
   "nbconvert_exporter": "python",
   "pygments_lexer": "ipython3",
   "version": "3.12.2"
  }
 },
 "nbformat": 4,
 "nbformat_minor": 2
}
